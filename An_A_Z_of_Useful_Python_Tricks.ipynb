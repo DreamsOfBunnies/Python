{
  "nbformat": 4,
  "nbformat_minor": 0,
  "metadata": {
    "colab": {
      "name": "An A-Z of Useful Python Tricks.ipynb",
      "version": "0.3.2",
      "provenance": [],
      "include_colab_link": true
    },
    "kernelspec": {
      "name": "python3",
      "display_name": "Python 3"
    }
  },
  "cells": [
    {
      "cell_type": "markdown",
      "metadata": {
        "id": "view-in-github",
        "colab_type": "text"
      },
      "source": [
        "[View in Colaboratory](https://colab.research.google.com/github/DreamsOfBunnies/Python/blob/master/An_A_Z_of_Useful_Python_Tricks.ipynb)"
      ]
    },
    {
      "metadata": {
        "id": "7rraUmUdu8dB",
        "colab_type": "text"
      },
      "cell_type": "markdown",
      "source": [
        "# An A-Z of useful Python tricks\n",
        "This colab is based upon the tricks demonstrated in Peter Gleesons freeCodeCamp article *An A-Z of useful Python tricks*."
      ]
    },
    {
      "metadata": {
        "id": "BIHZEAo3xPEa",
        "colab_type": "code",
        "colab": {
          "base_uri": "https://localhost:8080/",
          "height": 35
        },
        "outputId": "89b4ea61-49bf-41f0-800b-e98320bb4ff1"
      },
      "cell_type": "code",
      "source": [
        "%%html\n",
        "<marquee style='width: 30%; color: blue;'><b>Yay tricks!</b></marqee>"
      ],
      "execution_count": 1,
      "outputs": [
        {
          "output_type": "display_data",
          "data": {
            "text/html": [
              "<marquee style='width: 30%; color: blue;'><b>Yay tricks!</b></marqee>"
            ],
            "text/plain": [
              "<IPython.core.display.HTML object>"
            ]
          },
          "metadata": {
            "tags": []
          }
        }
      ]
    },
    {
      "metadata": {
        "id": "XRXKb6dHvOB_",
        "colab_type": "text"
      },
      "cell_type": "markdown",
      "source": [
        "## all or any"
      ]
    },
    {
      "metadata": {
        "id": "x7GdjKhnu2A9",
        "colab_type": "code",
        "colab": {
          "base_uri": "https://localhost:8080/",
          "height": 74
        },
        "outputId": "e5e5b603-335f-46df-edbd-a8f806ac9727"
      },
      "cell_type": "code",
      "source": [
        "x = [True, True, False]\n",
        "\n",
        "if any(x):\n",
        "    print(\"At least one True\")\n",
        "    \n",
        "if all(x):\n",
        "    print(\"Not one False\")\n",
        "else:\n",
        "    print(\"All are not True\")\n",
        "    \n",
        "if any(x) and not all(x):\n",
        "    print(\"At least one True and one False\")"
      ],
      "execution_count": 2,
      "outputs": [
        {
          "output_type": "stream",
          "text": [
            "At least one True\n",
            "All are not True\n",
            "At least one True and one False\n"
          ],
          "name": "stdout"
        }
      ]
    },
    {
      "metadata": {
        "id": "17il88NDv1u2",
        "colab_type": "text"
      },
      "cell_type": "markdown",
      "source": [
        "## bashplotlib\n",
        "Plot graphs in the console"
      ]
    },
    {
      "metadata": {
        "id": "d-3jYHBIv-8f",
        "colab_type": "code",
        "colab": {
          "base_uri": "https://localhost:8080/",
          "height": 168
        },
        "outputId": "5fa66178-3a28-4a32-8307-2d3d00fbe42e"
      },
      "cell_type": "code",
      "source": [
        "!pip install bashplotlib"
      ],
      "execution_count": 3,
      "outputs": [
        {
          "output_type": "stream",
          "text": [
            "Collecting bashplotlib\n",
            "  Downloading https://files.pythonhosted.org/packages/ac/a7/b0871fd1bcc38a3be7b6d0a188876e5a84c16c52f62dac9fe28418d12fe0/bashplotlib-0.6.5.tar.gz\n",
            "Building wheels for collected packages: bashplotlib\n",
            "  Running setup.py bdist_wheel for bashplotlib ... \u001b[?25l-\b \bdone\n",
            "\u001b[?25h  Stored in directory: /root/.cache/pip/wheels/39/f0/8b/6e42f59f24ca2115413dc1a8195a2fb82f9daeed52839aa631\n",
            "Successfully built bashplotlib\n",
            "Installing collected packages: bashplotlib\n",
            "Successfully installed bashplotlib-0.6.5\n"
          ],
          "name": "stdout"
        }
      ]
    },
    {
      "metadata": {
        "id": "KbEgyse7xz_B",
        "colab_type": "text"
      },
      "cell_type": "markdown",
      "source": [
        "## collections"
      ]
    },
    {
      "metadata": {
        "id": "ceLUFMlRx2lN",
        "colab_type": "code",
        "colab": {
          "base_uri": "https://localhost:8080/",
          "height": 55
        },
        "outputId": "af431e29-abb2-43d6-9fa3-26c15cd3e59b"
      },
      "cell_type": "code",
      "source": [
        "from collections import OrderedDict, Counter\n",
        "\n",
        "# Remember the order the keys are added!\n",
        "ordered_dict = OrderedDict(a=1, b=2, c=3)\n",
        "print(ordered_dict)\n",
        "\n",
        "# Counts frequency of each character\n",
        "freqs = Counter(\"Hello World!\")\n",
        "print(freqs)"
      ],
      "execution_count": 4,
      "outputs": [
        {
          "output_type": "stream",
          "text": [
            "OrderedDict([('a', 1), ('b', 2), ('c', 3)])\n",
            "Counter({'l': 3, 'o': 2, 'H': 1, 'e': 1, ' ': 1, 'W': 1, 'r': 1, 'd': 1, '!': 1})\n"
          ],
          "name": "stdout"
        }
      ]
    },
    {
      "metadata": {
        "id": "Pbd2Y01XyWyD",
        "colab_type": "text"
      },
      "cell_type": "markdown",
      "source": [
        "## dir"
      ]
    },
    {
      "metadata": {
        "id": "9w6OSkkUyZDL",
        "colab_type": "code",
        "colab": {
          "base_uri": "https://localhost:8080/",
          "height": 640
        },
        "outputId": "3382a084-88f4-4ec7-8c9d-618f6b1c929c"
      },
      "cell_type": "code",
      "source": [
        "dir()"
      ],
      "execution_count": 5,
      "outputs": [
        {
          "output_type": "execute_result",
          "data": {
            "text/plain": [
              "['Counter',\n",
              " 'In',\n",
              " 'OrderedDict',\n",
              " 'Out',\n",
              " '_',\n",
              " '__',\n",
              " '___',\n",
              " '__builtin__',\n",
              " '__builtins__',\n",
              " '__doc__',\n",
              " '__loader__',\n",
              " '__name__',\n",
              " '__package__',\n",
              " '__spec__',\n",
              " '_dh',\n",
              " '_exit_code',\n",
              " '_i',\n",
              " '_i1',\n",
              " '_i2',\n",
              " '_i3',\n",
              " '_i4',\n",
              " '_i5',\n",
              " '_ih',\n",
              " '_ii',\n",
              " '_iii',\n",
              " '_oh',\n",
              " '_sh',\n",
              " 'exit',\n",
              " 'freqs',\n",
              " 'get_ipython',\n",
              " 'ordered_dict',\n",
              " 'quit',\n",
              " 'x']"
            ]
          },
          "metadata": {
            "tags": []
          },
          "execution_count": 5
        }
      ]
    },
    {
      "metadata": {
        "id": "v0LdpFKlyfJB",
        "colab_type": "code",
        "colab": {
          "base_uri": "https://localhost:8080/",
          "height": 1470
        },
        "outputId": "f94f9989-b3ea-458c-f668-9f86c8a3f766"
      },
      "cell_type": "code",
      "source": [
        "dir(\"Hello World!\")"
      ],
      "execution_count": 13,
      "outputs": [
        {
          "output_type": "execute_result",
          "data": {
            "text/plain": [
              "['__add__',\n",
              " '__class__',\n",
              " '__contains__',\n",
              " '__delattr__',\n",
              " '__dir__',\n",
              " '__doc__',\n",
              " '__eq__',\n",
              " '__format__',\n",
              " '__ge__',\n",
              " '__getattribute__',\n",
              " '__getitem__',\n",
              " '__getnewargs__',\n",
              " '__gt__',\n",
              " '__hash__',\n",
              " '__init__',\n",
              " '__init_subclass__',\n",
              " '__iter__',\n",
              " '__le__',\n",
              " '__len__',\n",
              " '__lt__',\n",
              " '__mod__',\n",
              " '__mul__',\n",
              " '__ne__',\n",
              " '__new__',\n",
              " '__reduce__',\n",
              " '__reduce_ex__',\n",
              " '__repr__',\n",
              " '__rmod__',\n",
              " '__rmul__',\n",
              " '__setattr__',\n",
              " '__sizeof__',\n",
              " '__str__',\n",
              " '__subclasshook__',\n",
              " 'capitalize',\n",
              " 'casefold',\n",
              " 'center',\n",
              " 'count',\n",
              " 'encode',\n",
              " 'endswith',\n",
              " 'expandtabs',\n",
              " 'find',\n",
              " 'format',\n",
              " 'format_map',\n",
              " 'index',\n",
              " 'isalnum',\n",
              " 'isalpha',\n",
              " 'isdecimal',\n",
              " 'isdigit',\n",
              " 'isidentifier',\n",
              " 'islower',\n",
              " 'isnumeric',\n",
              " 'isprintable',\n",
              " 'isspace',\n",
              " 'istitle',\n",
              " 'isupper',\n",
              " 'join',\n",
              " 'ljust',\n",
              " 'lower',\n",
              " 'lstrip',\n",
              " 'maketrans',\n",
              " 'partition',\n",
              " 'replace',\n",
              " 'rfind',\n",
              " 'rindex',\n",
              " 'rjust',\n",
              " 'rpartition',\n",
              " 'rsplit',\n",
              " 'rstrip',\n",
              " 'split',\n",
              " 'splitlines',\n",
              " 'startswith',\n",
              " 'strip',\n",
              " 'swapcase',\n",
              " 'title',\n",
              " 'translate',\n",
              " 'upper',\n",
              " 'zfill']"
            ]
          },
          "metadata": {
            "tags": []
          },
          "execution_count": 13
        }
      ]
    },
    {
      "metadata": {
        "id": "tos4Mt9Tyllx",
        "colab_type": "code",
        "colab": {
          "base_uri": "https://localhost:8080/",
          "height": 564
        },
        "outputId": "4bf09d57-3926-402a-bc4c-87e30f691a75"
      },
      "cell_type": "code",
      "source": [
        "dir(dir)"
      ],
      "execution_count": 14,
      "outputs": [
        {
          "output_type": "execute_result",
          "data": {
            "text/plain": [
              "['__call__',\n",
              " '__class__',\n",
              " '__delattr__',\n",
              " '__dir__',\n",
              " '__doc__',\n",
              " '__eq__',\n",
              " '__format__',\n",
              " '__ge__',\n",
              " '__getattribute__',\n",
              " '__gt__',\n",
              " '__hash__',\n",
              " '__init__',\n",
              " '__init_subclass__',\n",
              " '__le__',\n",
              " '__lt__',\n",
              " '__module__',\n",
              " '__name__',\n",
              " '__ne__',\n",
              " '__new__',\n",
              " '__qualname__',\n",
              " '__reduce__',\n",
              " '__reduce_ex__',\n",
              " '__repr__',\n",
              " '__self__',\n",
              " '__setattr__',\n",
              " '__sizeof__',\n",
              " '__str__',\n",
              " '__subclasshook__',\n",
              " '__text_signature__']"
            ]
          },
          "metadata": {
            "tags": []
          },
          "execution_count": 14
        }
      ]
    },
    {
      "metadata": {
        "id": "w2TxmwUCyo36",
        "colab_type": "text"
      },
      "cell_type": "markdown",
      "source": [
        "## emoji\n",
        "[Emoji cheat sheet](https://www.webfx.com/tools/emoji-cheat-sheet/)"
      ]
    },
    {
      "metadata": {
        "id": "6K1AmWBgyuUe",
        "colab_type": "code",
        "colab": {
          "base_uri": "https://localhost:8080/",
          "height": 187
        },
        "outputId": "86f66060-e28f-41d8-8a86-a494677129ba"
      },
      "cell_type": "code",
      "source": [
        "!pip install emoji"
      ],
      "execution_count": 6,
      "outputs": [
        {
          "output_type": "stream",
          "text": [
            "Collecting emoji\n",
            "\u001b[?25l  Downloading https://files.pythonhosted.org/packages/47/e7/cf76e0774b13459e61ffe16a042a35f42e292aeebba060b919c05b0854ab/emoji-0.5.0.tar.gz (41kB)\n",
            "\u001b[K    100% |████████████████████████████████| 51kB 3.5MB/s \n",
            "\u001b[?25hBuilding wheels for collected packages: emoji\n",
            "  Running setup.py bdist_wheel for emoji ... \u001b[?25l-\b \bdone\n",
            "\u001b[?25h  Stored in directory: /root/.cache/pip/wheels/5d/60/eb/49bb6f75caa1bd0b277d43bd14ac3ea1db3e5ed030d2013852\n",
            "Successfully built emoji\n",
            "Installing collected packages: emoji\n",
            "Successfully installed emoji-0.5.0\n"
          ],
          "name": "stdout"
        }
      ]
    },
    {
      "metadata": {
        "id": "NqBeoECRyzNa",
        "colab_type": "code",
        "colab": {
          "base_uri": "https://localhost:8080/",
          "height": 36
        },
        "outputId": "cc9ef8f7-6ed1-487c-b7e5-e70212347ef4"
      },
      "cell_type": "code",
      "source": [
        "from emoji import emojize\n",
        "\n",
        "print(emojize(\":thumbs_up:\"))"
      ],
      "execution_count": 7,
      "outputs": [
        {
          "output_type": "stream",
          "text": [
            "👍\n"
          ],
          "name": "stdout"
        }
      ]
    },
    {
      "metadata": {
        "id": "pSsGojK20y52",
        "colab_type": "text"
      },
      "cell_type": "markdown",
      "source": [
        "## from __future__ import"
      ]
    },
    {
      "metadata": {
        "id": "-2zyvNIo03Uc",
        "colab_type": "code",
        "colab": {
          "base_uri": "https://localhost:8080/",
          "height": 138
        },
        "outputId": "5fecdd97-2277-4179-e9ed-4e8c809d9d00"
      },
      "cell_type": "code",
      "source": [
        "from __future__ import braces"
      ],
      "execution_count": 8,
      "outputs": [
        {
          "output_type": "error",
          "ename": "SyntaxError",
          "evalue": "ignored",
          "traceback": [
            "\u001b[0;36m  File \u001b[0;32m\"<ipython-input-8-6d5c5b2f0daf>\"\u001b[0;36m, line \u001b[0;32m1\u001b[0m\n\u001b[0;31m    from __future__ import braces\u001b[0m\n\u001b[0m                                 ^\u001b[0m\n\u001b[0;31mSyntaxError\u001b[0m\u001b[0;31m:\u001b[0m not a chance\n"
          ]
        }
      ]
    },
    {
      "metadata": {
        "id": "otMa8y2G1Bs1",
        "colab_type": "code",
        "colab": {
          "base_uri": "https://localhost:8080/",
          "height": 36
        },
        "outputId": "afd0fcd1-c976-40bb-9f74-02fc580a8131"
      },
      "cell_type": "code",
      "source": [
        "from __future__ import print_function\n",
        "\n",
        "print(\"Hello World!\")"
      ],
      "execution_count": 9,
      "outputs": [
        {
          "output_type": "stream",
          "text": [
            "Hello World!\n"
          ],
          "name": "stdout"
        }
      ]
    },
    {
      "metadata": {
        "id": "9DFM28aq3Gk7",
        "colab_type": "text"
      },
      "cell_type": "markdown",
      "source": [
        "## geopy"
      ]
    },
    {
      "metadata": {
        "id": "rdRGN93g3PXG",
        "colab_type": "code",
        "colab": {
          "base_uri": "https://localhost:8080/",
          "height": 225
        },
        "outputId": "d08130b5-8b1c-4635-e462-6cb585c8920b"
      },
      "cell_type": "code",
      "source": [
        "!pip install geopy"
      ],
      "execution_count": 10,
      "outputs": [
        {
          "output_type": "stream",
          "text": [
            "Collecting geopy\n",
            "\u001b[?25l  Downloading https://files.pythonhosted.org/packages/38/55/4f4d10b966d302707f17d7a55a4ea6ece2c574cff1be9bf3debb65ff74b9/geopy-1.16.0-py2.py3-none-any.whl (90kB)\n",
            "\u001b[K    100% |████████████████████████████████| 92kB 4.6MB/s \n",
            "\u001b[?25hCollecting geographiclib<2,>=1.49 (from geopy)\n",
            "  Downloading https://files.pythonhosted.org/packages/5b/ac/4f348828091490d77899bc74e92238e2b55c59392f21948f296e94e50e2b/geographiclib-1.49.tar.gz\n",
            "Building wheels for collected packages: geographiclib\n",
            "  Running setup.py bdist_wheel for geographiclib ... \u001b[?25l-\b \bdone\n",
            "\u001b[?25h  Stored in directory: /root/.cache/pip/wheels/99/45/d1/14954797e2a976083182c2e7da9b4e924509e59b6e5c661061\n",
            "Successfully built geographiclib\n",
            "Installing collected packages: geographiclib, geopy\n",
            "Successfully installed geographiclib-1.49 geopy-1.16.0\n"
          ],
          "name": "stdout"
        }
      ]
    },
    {
      "metadata": {
        "id": "u_mPMNos3VhO",
        "colab_type": "code",
        "colab": {
          "base_uri": "https://localhost:8080/",
          "height": 233
        },
        "outputId": "e5d68fb8-a1f7-4140-90f1-7e7bbba23851"
      },
      "cell_type": "code",
      "source": [
        "from geopy import GoogleV3\n",
        "\n",
        "place = \"550 Buck Street, Pembroke, NH 03275\"\n",
        "location = GoogleV3().geocode(place)\n",
        "\n",
        "print(location.address)\n",
        "print(location.location)"
      ],
      "execution_count": 11,
      "outputs": [
        {
          "output_type": "stream",
          "text": [
            "550 Buck St, Pembroke, NH 03275, USA\n"
          ],
          "name": "stdout"
        },
        {
          "output_type": "error",
          "ename": "AttributeError",
          "evalue": "ignored",
          "traceback": [
            "\u001b[0;31m---------------------------------------------------------------------------\u001b[0m",
            "\u001b[0;31mAttributeError\u001b[0m                            Traceback (most recent call last)",
            "\u001b[0;32m<ipython-input-11-c42d807be509>\u001b[0m in \u001b[0;36m<module>\u001b[0;34m()\u001b[0m\n\u001b[1;32m      5\u001b[0m \u001b[0;34m\u001b[0m\u001b[0m\n\u001b[1;32m      6\u001b[0m \u001b[0mprint\u001b[0m\u001b[0;34m(\u001b[0m\u001b[0mlocation\u001b[0m\u001b[0;34m.\u001b[0m\u001b[0maddress\u001b[0m\u001b[0;34m)\u001b[0m\u001b[0;34m\u001b[0m\u001b[0m\n\u001b[0;32m----> 7\u001b[0;31m \u001b[0mprint\u001b[0m\u001b[0;34m(\u001b[0m\u001b[0mlocation\u001b[0m\u001b[0;34m.\u001b[0m\u001b[0mlocation\u001b[0m\u001b[0;34m)\u001b[0m\u001b[0;34m\u001b[0m\u001b[0m\n\u001b[0m",
            "\u001b[0;31mAttributeError\u001b[0m: 'Location' object has no attribute 'location'"
          ]
        }
      ]
    },
    {
      "metadata": {
        "id": "Jv76UNLn3prC",
        "colab_type": "text"
      },
      "cell_type": "markdown",
      "source": [
        "## howdoi"
      ]
    },
    {
      "metadata": {
        "id": "BYQJ28Uo3uNt",
        "colab_type": "code",
        "colab": {
          "base_uri": "https://localhost:8080/",
          "height": 451
        },
        "outputId": "6c7cbcb7-8013-49ad-bc95-ad187579ed56"
      },
      "cell_type": "code",
      "source": [
        "!pip install howdoi"
      ],
      "execution_count": 12,
      "outputs": [
        {
          "output_type": "stream",
          "text": [
            "Collecting howdoi\n",
            "  Downloading https://files.pythonhosted.org/packages/bc/21/87dd3caacaa7c372a9838de8e2a2a9640043e72f382cf1300574e78e9a86/howdoi-1.1.13.tar.gz\n",
            "Collecting pyquery (from howdoi)\n",
            "  Downloading https://files.pythonhosted.org/packages/09/c7/ce8c9c37ab8ff8337faad3335c088d60bed4a35a4bed33a64f0e64fbcf29/pyquery-1.4.0-py2.py3-none-any.whl\n",
            "Requirement already satisfied: pygments in /usr/local/lib/python3.6/dist-packages (from howdoi) (2.1.3)\n",
            "Requirement already satisfied: requests in /usr/local/lib/python3.6/dist-packages (from howdoi) (2.18.4)\n",
            "Collecting requests-cache (from howdoi)\n",
            "  Downloading https://files.pythonhosted.org/packages/00/62/9e45a38988cb48c474805a1626439f4d9a486a042bd077af888fa8b17a64/requests_cache-0.4.13-py2.py3-none-any.whl\n",
            "Collecting cssselect>0.7.9 (from pyquery->howdoi)\n",
            "  Downloading https://files.pythonhosted.org/packages/7b/44/25b7283e50585f0b4156960691d951b05d061abf4a714078393e51929b30/cssselect-1.0.3-py2.py3-none-any.whl\n",
            "Collecting lxml>=2.1 (from pyquery->howdoi)\n",
            "\u001b[?25l  Downloading https://files.pythonhosted.org/packages/eb/59/1db3c9c27049e4f832691c6d642df1f5b64763f73942172c44fee22de397/lxml-4.2.4-cp36-cp36m-manylinux1_x86_64.whl (5.8MB)\n",
            "\u001b[K    100% |████████████████████████████████| 5.8MB 4.7MB/s \n",
            "\u001b[?25hRequirement already satisfied: certifi>=2017.4.17 in /usr/local/lib/python3.6/dist-packages (from requests->howdoi) (2018.8.24)\n",
            "Requirement already satisfied: chardet<3.1.0,>=3.0.2 in /usr/local/lib/python3.6/dist-packages (from requests->howdoi) (3.0.4)\n",
            "Requirement already satisfied: idna<2.7,>=2.5 in /usr/local/lib/python3.6/dist-packages (from requests->howdoi) (2.6)\n",
            "Requirement already satisfied: urllib3<1.23,>=1.21.1 in /usr/local/lib/python3.6/dist-packages (from requests->howdoi) (1.22)\n",
            "Building wheels for collected packages: howdoi\n",
            "  Running setup.py bdist_wheel for howdoi ... \u001b[?25l-\b \bdone\n",
            "\u001b[?25h  Stored in directory: /root/.cache/pip/wheels/6b/23/8b/96de69c2018807cfefcda13aacf24c6361e19ef93de3b729b3\n",
            "Successfully built howdoi\n",
            "Installing collected packages: cssselect, lxml, pyquery, requests-cache, howdoi\n",
            "Successfully installed cssselect-1.0.3 howdoi-1.1.13 lxml-4.2.4 pyquery-1.4.0 requests-cache-0.4.13\n"
          ],
          "name": "stdout"
        }
      ]
    },
    {
      "metadata": {
        "id": "TrhYoFVK3zPs",
        "colab_type": "code",
        "colab": {
          "base_uri": "https://localhost:8080/",
          "height": 206
        },
        "outputId": "595cd641-46b1-4cbb-ae3b-7f9893424786"
      },
      "cell_type": "code",
      "source": [
        "!howdoi find nth fibonacci python"
      ],
      "execution_count": 13,
      "outputs": [
        {
          "output_type": "stream",
          "text": [
            "def fib(n):\n",
            "    cur = 1\n",
            "    old = 1\n",
            "    i = 1\n",
            "    while (i < n):\n",
            "        cur, old, i = cur+old, cur, i+1\n",
            "    return cur\n",
            "\n",
            "for i in range(10):\n",
            "    print(fib(i))\n"
          ],
          "name": "stdout"
        }
      ]
    },
    {
      "metadata": {
        "id": "v7Vfnk1b4Ohj",
        "colab_type": "text"
      },
      "cell_type": "markdown",
      "source": [
        "## inspect"
      ]
    },
    {
      "metadata": {
        "id": "TgWwIwS24QPi",
        "colab_type": "code",
        "colab": {
          "base_uri": "https://localhost:8080/",
          "height": 225
        },
        "outputId": "38d68d58-6138-4995-97e9-bc86d712a1c7"
      },
      "cell_type": "code",
      "source": [
        "import inspect\n",
        "\n",
        "print(inspect.getsource(inspect.getsource))\n",
        "print(inspect.getmodule(inspect.getmodule))\n",
        "print(inspect.currentframe().f_lineno)"
      ],
      "execution_count": 14,
      "outputs": [
        {
          "output_type": "stream",
          "text": [
            "def getsource(object):\n",
            "    \"\"\"Return the text of the source code for an object.\n",
            "\n",
            "    The argument may be a module, class, method, function, traceback, frame,\n",
            "    or code object.  The source code is returned as a single string.  An\n",
            "    OSError is raised if the source code cannot be retrieved.\"\"\"\n",
            "    lines, lnum = getsourcelines(object)\n",
            "    return ''.join(lines)\n",
            "\n",
            "<module 'inspect' from '/usr/lib/python3.6/inspect.py'>\n",
            "5\n"
          ],
          "name": "stdout"
        }
      ]
    },
    {
      "metadata": {
        "id": "egTVdHZy-w41",
        "colab_type": "text"
      },
      "cell_type": "markdown",
      "source": [
        "## Jedi"
      ]
    },
    {
      "metadata": {
        "id": "wzVQByJU-Bol",
        "colab_type": "text"
      },
      "cell_type": "markdown",
      "source": [
        "## **kwargs"
      ]
    },
    {
      "metadata": {
        "id": "2WibiNYT-NIR",
        "colab_type": "code",
        "colab": {
          "base_uri": "https://localhost:8080/",
          "height": 74
        },
        "outputId": "12efdb71-f54e-44bf-9923-a9260272e4df"
      },
      "cell_type": "code",
      "source": [
        "dictionary = {\"a\": 1, \"b\": 2}\n",
        "\n",
        "def someFunction(a, b):\n",
        "    print(a + b)\n",
        "    return\n",
        "\n",
        "# these do the same thing\n",
        "print(someFunction(**dictionary))\n",
        "someFunction(a=1, b=2)"
      ],
      "execution_count": 15,
      "outputs": [
        {
          "output_type": "stream",
          "text": [
            "3\n",
            "None\n",
            "3\n"
          ],
          "name": "stdout"
        }
      ]
    },
    {
      "metadata": {
        "id": "VRnLstjc_KcW",
        "colab_type": "text"
      },
      "cell_type": "markdown",
      "source": [
        "## List comprehensions"
      ]
    },
    {
      "metadata": {
        "id": "WBb4dG8C_Noe",
        "colab_type": "code",
        "colab": {
          "base_uri": "https://localhost:8080/",
          "height": 55
        },
        "outputId": "b649f62a-67ab-4681-e3bb-1623b66c465b"
      },
      "cell_type": "code",
      "source": [
        "numbers = [1, 2, 3, 4, 5, 6, 7]\n",
        "evens = [x for x in numbers if x % 2 is 0]\n",
        "odds = [y for y in numbers if y not in evens]\n",
        "\n",
        "print(\"evens: \", evens)\n",
        "print(\"odds: \", odds)"
      ],
      "execution_count": 16,
      "outputs": [
        {
          "output_type": "stream",
          "text": [
            "evens:  [2, 4, 6]\n",
            "odds:  [1, 3, 5, 7]\n"
          ],
          "name": "stdout"
        }
      ]
    },
    {
      "metadata": {
        "id": "NgwikdEb_fBN",
        "colab_type": "code",
        "colab": {
          "base_uri": "https://localhost:8080/",
          "height": 74
        },
        "outputId": "23c6f297-63c3-44bb-8c56-6885859f6722"
      },
      "cell_type": "code",
      "source": [
        "cities = ['London', 'Dublin', 'Oslo']\n",
        "\n",
        "def visit(city):\n",
        "    print(\"Welcome to \"+city)\n",
        "    \n",
        "for city in cities:\n",
        "    visit(city)"
      ],
      "execution_count": 17,
      "outputs": [
        {
          "output_type": "stream",
          "text": [
            "Welcome to London\n",
            "Welcome to Dublin\n",
            "Welcome to Oslo\n"
          ],
          "name": "stdout"
        }
      ]
    },
    {
      "metadata": {
        "id": "WMghFTiiADky",
        "colab_type": "text"
      },
      "cell_type": "markdown",
      "source": [
        "## map"
      ]
    },
    {
      "metadata": {
        "id": "lixVrDT2AHpF",
        "colab_type": "code",
        "colab": {
          "base_uri": "https://localhost:8080/",
          "height": 36
        },
        "outputId": "c96bb032-fd02-43eb-f210-91a85642bba0"
      },
      "cell_type": "code",
      "source": [
        "x = [1, 2, 3]\n",
        "y = map(lambda x: x + 1, x)\n",
        "\n",
        "# applies lambda function to each element in x\n",
        "list(y)"
      ],
      "execution_count": 18,
      "outputs": [
        {
          "output_type": "execute_result",
          "data": {
            "text/plain": [
              "[2, 3, 4]"
            ]
          },
          "metadata": {
            "tags": []
          },
          "execution_count": 18
        }
      ]
    },
    {
      "metadata": {
        "id": "Ypz3SR7RAgEN",
        "colab_type": "text"
      },
      "cell_type": "markdown",
      "source": [
        "## [newspaper3k](https://pypi.org/project/newspaper3k)\n",
        "[Quickstart](https://https://newspaper.readthedocs.io/en/latest/user_guide/quickstart.html)"
      ]
    },
    {
      "metadata": {
        "id": "CYikyes7AipV",
        "colab_type": "code",
        "colab": {
          "base_uri": "https://localhost:8080/",
          "height": 866
        },
        "outputId": "6883a8e1-255c-4f7e-e44d-4b60ca5ee7b1"
      },
      "cell_type": "code",
      "source": [
        "!pip install newspaper3k"
      ],
      "execution_count": 19,
      "outputs": [
        {
          "output_type": "stream",
          "text": [
            "Collecting newspaper3k\n",
            "\u001b[?25l  Downloading https://files.pythonhosted.org/packages/4f/37/316b6d11cc805ecdf777f7707181ec251a17ecfaadde161c3060b39fd31c/newspaper3k-0.2.7-py3-none-any.whl (210kB)\n",
            "\u001b[K    100% |████████████████████████████████| 215kB 6.3MB/s \n",
            "\u001b[?25hRequirement already satisfied: beautifulsoup4>=4.4.1 in /usr/local/lib/python3.6/dist-packages (from newspaper3k) (4.6.3)\n",
            "Requirement already satisfied: requests>=2.10.0 in /usr/local/lib/python3.6/dist-packages (from newspaper3k) (2.18.4)\n",
            "Requirement already satisfied: Pillow>=3.3.0 in /usr/local/lib/python3.6/dist-packages (from newspaper3k) (4.0.0)\n",
            "Requirement already satisfied: cssselect>=0.9.2 in /usr/local/lib/python3.6/dist-packages (from newspaper3k) (1.0.3)\n",
            "Collecting tldextract>=2.0.1 (from newspaper3k)\n",
            "\u001b[?25l  Downloading https://files.pythonhosted.org/packages/0e/0c/1b7332684dfc2e6311d59cd00859a5318a7e0ba50334ad217ceb9555e213/tldextract-2.2.0-py2.py3-none-any.whl (52kB)\n",
            "\u001b[K    100% |████████████████████████████████| 61kB 8.5MB/s \n",
            "\u001b[?25hRequirement already satisfied: lxml>=3.6.0 in /usr/local/lib/python3.6/dist-packages (from newspaper3k) (4.2.4)\n",
            "Requirement already satisfied: nltk>=3.2.1 in /usr/local/lib/python3.6/dist-packages (from newspaper3k) (3.2.5)\n",
            "Collecting feedfinder2>=0.0.4 (from newspaper3k)\n",
            "  Downloading https://files.pythonhosted.org/packages/35/82/1251fefec3bb4b03fd966c7e7f7a41c9fc2bb00d823a34c13f847fd61406/feedfinder2-0.0.4.tar.gz\n",
            "Collecting tinysegmenter==0.3 (from newspaper3k)\n",
            "  Downloading https://files.pythonhosted.org/packages/17/82/86982e4b6d16e4febc79c2a1d68ee3b707e8a020c5d2bc4af8052d0f136a/tinysegmenter-0.3.tar.gz\n",
            "Collecting jieba3k>=0.35.1 (from newspaper3k)\n",
            "\u001b[?25l  Downloading https://files.pythonhosted.org/packages/a9/cb/2c8332bcdc14d33b0bedd18ae0a4981a069c3513e445120da3c3f23a8aaa/jieba3k-0.35.1.zip (7.4MB)\n",
            "\u001b[K    100% |████████████████████████████████| 7.4MB 4.6MB/s \n",
            "\u001b[?25hRequirement already satisfied: PyYAML>=3.11 in /usr/local/lib/python3.6/dist-packages (from newspaper3k) (3.13)\n",
            "Requirement already satisfied: python-dateutil>=2.5.3 in /usr/local/lib/python3.6/dist-packages (from newspaper3k) (2.5.3)\n",
            "Collecting feedparser>=5.2.1 (from newspaper3k)\n",
            "\u001b[?25l  Downloading https://files.pythonhosted.org/packages/91/d8/7d37fec71ff7c9dbcdd80d2b48bcdd86d6af502156fc93846fb0102cb2c4/feedparser-5.2.1.tar.bz2 (192kB)\n",
            "\u001b[K    100% |████████████████████████████████| 194kB 23.7MB/s \n",
            "\u001b[?25hRequirement already satisfied: chardet<3.1.0,>=3.0.2 in /usr/local/lib/python3.6/dist-packages (from requests>=2.10.0->newspaper3k) (3.0.4)\n",
            "Requirement already satisfied: certifi>=2017.4.17 in /usr/local/lib/python3.6/dist-packages (from requests>=2.10.0->newspaper3k) (2018.8.24)\n",
            "Requirement already satisfied: urllib3<1.23,>=1.21.1 in /usr/local/lib/python3.6/dist-packages (from requests>=2.10.0->newspaper3k) (1.22)\n",
            "Requirement already satisfied: idna<2.7,>=2.5 in /usr/local/lib/python3.6/dist-packages (from requests>=2.10.0->newspaper3k) (2.6)\n",
            "Requirement already satisfied: olefile in /usr/local/lib/python3.6/dist-packages (from Pillow>=3.3.0->newspaper3k) (0.45.1)\n",
            "Requirement already satisfied: setuptools in /usr/local/lib/python3.6/dist-packages (from tldextract>=2.0.1->newspaper3k) (39.1.0)\n",
            "Collecting requests-file>=1.4 (from tldextract>=2.0.1->newspaper3k)\n",
            "  Downloading https://files.pythonhosted.org/packages/23/9c/6e63c23c39e53d3df41c77a3d05a49a42c4e1383a6d2a5e3233161b89dbf/requests_file-1.4.3-py2.py3-none-any.whl\n",
            "Requirement already satisfied: six in /usr/local/lib/python3.6/dist-packages (from nltk>=3.2.1->newspaper3k) (1.11.0)\n",
            "Building wheels for collected packages: feedfinder2, tinysegmenter, jieba3k, feedparser\n",
            "  Running setup.py bdist_wheel for feedfinder2 ... \u001b[?25l-\b \bdone\n",
            "\u001b[?25h  Stored in directory: /root/.cache/pip/wheels/de/03/ca/778e3a7a627e3d98836cc890e7cb40c7575424cfd3340f40ed\n",
            "  Running setup.py bdist_wheel for tinysegmenter ... \u001b[?25l-\b \bdone\n",
            "\u001b[?25h  Stored in directory: /root/.cache/pip/wheels/81/2b/43/a02ede72324dd40cdd7ca53aad718c7710628e91b8b0dc0f02\n",
            "  Running setup.py bdist_wheel for jieba3k ... \u001b[?25l-\b \b\\\b \b|\b \b/\b \b-\b \b\\\b \b|\b \b/\b \bdone\n",
            "\u001b[?25h  Stored in directory: /root/.cache/pip/wheels/83/15/9c/a3f1f67e7f7181170ad37d32e503c35da20627c013f438ed34\n",
            "  Running setup.py bdist_wheel for feedparser ... \u001b[?25l-\b \b\\\b \b|\b \b/\b \b-\b \b\\\b \bdone\n",
            "\u001b[?25h  Stored in directory: /root/.cache/pip/wheels/8c/69/b7/f52763c41c5471df57703a0ef718a32a5e81ee35dcf6d4f97f\n",
            "Successfully built feedfinder2 tinysegmenter jieba3k feedparser\n",
            "Installing collected packages: requests-file, tldextract, feedfinder2, tinysegmenter, jieba3k, feedparser, newspaper3k\n",
            "Successfully installed feedfinder2-0.0.4 feedparser-5.2.1 jieba3k-0.35.1 newspaper3k-0.2.7 requests-file-1.4.3 tinysegmenter-0.3 tldextract-2.2.0\n"
          ],
          "name": "stdout"
        }
      ]
    },
    {
      "metadata": {
        "id": "cgS0sfYDE2v2",
        "colab_type": "code",
        "colab": {}
      },
      "cell_type": "code",
      "source": [
        "from newspaper import Article\n",
        "\n",
        "url = 'https://money.cnn.com/2018/08/31/investing/coca-cola-company-costa/index.html'\n",
        "article = Article(url)"
      ],
      "execution_count": 0,
      "outputs": []
    },
    {
      "metadata": {
        "id": "U2g8bt_cFru-",
        "colab_type": "code",
        "colab": {
          "base_uri": "https://localhost:8080/",
          "height": 1790
        },
        "outputId": "2031603c-21ea-44a5-8a1b-987243862281"
      },
      "cell_type": "code",
      "source": [
        "dir(article)"
      ],
      "execution_count": 21,
      "outputs": [
        {
          "output_type": "execute_result",
          "data": {
            "text/plain": [
              "['__class__',\n",
              " '__delattr__',\n",
              " '__dict__',\n",
              " '__dir__',\n",
              " '__doc__',\n",
              " '__eq__',\n",
              " '__format__',\n",
              " '__ge__',\n",
              " '__getattribute__',\n",
              " '__gt__',\n",
              " '__hash__',\n",
              " '__init__',\n",
              " '__init_subclass__',\n",
              " '__le__',\n",
              " '__lt__',\n",
              " '__module__',\n",
              " '__ne__',\n",
              " '__new__',\n",
              " '__reduce__',\n",
              " '__reduce_ex__',\n",
              " '__repr__',\n",
              " '__setattr__',\n",
              " '__sizeof__',\n",
              " '__str__',\n",
              " '__subclasshook__',\n",
              " '__weakref__',\n",
              " 'additional_data',\n",
              " 'article_html',\n",
              " 'authors',\n",
              " 'build',\n",
              " 'build_resource_path',\n",
              " 'canonical_link',\n",
              " 'clean_doc',\n",
              " 'clean_top_node',\n",
              " 'config',\n",
              " 'doc',\n",
              " 'download',\n",
              " 'download_exception_msg',\n",
              " 'download_state',\n",
              " 'extractor',\n",
              " 'fetch_images',\n",
              " 'get_parse_candidate',\n",
              " 'get_resource_path',\n",
              " 'has_top_image',\n",
              " 'html',\n",
              " 'images',\n",
              " 'imgs',\n",
              " 'is_media_news',\n",
              " 'is_parsed',\n",
              " 'is_valid_body',\n",
              " 'is_valid_url',\n",
              " 'keywords',\n",
              " 'meta_data',\n",
              " 'meta_description',\n",
              " 'meta_favicon',\n",
              " 'meta_img',\n",
              " 'meta_keywords',\n",
              " 'meta_lang',\n",
              " 'movies',\n",
              " 'nlp',\n",
              " 'parse',\n",
              " 'publish_date',\n",
              " 'release_resources',\n",
              " 'set_article_html',\n",
              " 'set_authors',\n",
              " 'set_canonical_link',\n",
              " 'set_html',\n",
              " 'set_imgs',\n",
              " 'set_keywords',\n",
              " 'set_meta_data',\n",
              " 'set_meta_description',\n",
              " 'set_meta_favicon',\n",
              " 'set_meta_img',\n",
              " 'set_meta_keywords',\n",
              " 'set_meta_language',\n",
              " 'set_movies',\n",
              " 'set_reddit_top_img',\n",
              " 'set_summary',\n",
              " 'set_tags',\n",
              " 'set_text',\n",
              " 'set_title',\n",
              " 'set_top_img',\n",
              " 'set_top_img_no_check',\n",
              " 'source_url',\n",
              " 'summary',\n",
              " 'tags',\n",
              " 'text',\n",
              " 'throw_if_not_downloaded_verbose',\n",
              " 'throw_if_not_parsed_verbose',\n",
              " 'title',\n",
              " 'top_image',\n",
              " 'top_img',\n",
              " 'top_node',\n",
              " 'url']"
            ]
          },
          "metadata": {
            "tags": []
          },
          "execution_count": 21
        }
      ]
    },
    {
      "metadata": {
        "id": "eE1MOoNjFSR9",
        "colab_type": "code",
        "colab": {
          "base_uri": "https://localhost:8080/",
          "height": 56
        },
        "outputId": "19036458-cde4-45da-a91a-c56679398039"
      },
      "cell_type": "code",
      "source": [
        "article.download()\n",
        "article.html"
      ],
      "execution_count": 22,
      "outputs": [
        {
          "output_type": "execute_result",
          "data": {
            "text/plain": [
              "'<!DOCTYPE html PUBLIC \"-//W3C//DTD XHTML 1.0 Transitional//EN\" \"http://www.w3.org/TR/xhtml1/DTD/xhtml1-transitional.dtd\"> <html xmlns=\"http://www.w3.org/1999/xhtml\" prefix=\"og: http://ogp.me/ns#\"> <head rel=\"article\" href=\"//money.cnn.com/2018/08/31/investing/coca-cola-company-costa/index.html\" itemid=\"\" itemscope itemtype=\"//schema.org/SpeakableSpecification\"> <meta name=\"viewport\" content=\"width=1140\"> <title>Coca-Cola is buying Costa Coffee for $5 billion </title> <link rel=\"image_src\" href=\"https://i2.cdn.turner.com/money/dam/assets/180831082126-costa-coffee-cups-barista-780x439.jpg\" /> <link rel=\"canonical\" href=\"https://money.cnn.com/2018/08/31/investing/coca-cola-company-costa/index.html\" /> <link rel=\"shortlink\" href=\"https://cnnmon.ie/2wug0S5\" /> <meta name=\"date\" content=\"2018-08-31 03:12:23\" /> <meta name=\"title\" content=\"Coca-Cola is buying Costa Coffee for $5 billion\" /> <meta name=\"description\" content=\"Coke has reached an agreement to buy Costa Coffee, which has nearly 4,000 stores across 32 countries.\" /> <meta name=\"keywords\" content=\"coca-cola , costa coffee, coke\" /> <meta name=\"news_keywords\" content=\"coca-cola , costa coffee, coke\" /> <meta name=\"author\" content=\"Rishi Iyengar\" /> <meta name=\"section\" content=\"investing\" /> <meta name=\"subsection\" content=\"\" /> <meta property=\"og:title\" content=\"Coca-Cola is buying Costa Coffee for $5 billion\" /> <meta property=\"og:type\" content=\"article\" /> <meta property=\"og:url\" content=\"https://money.cnn.com/2018/08/31/investing/coca-cola-company-costa/index.html\" /> <meta property=\"og:image\" content=\"https://i2.cdn.turner.com/money/dam/assets/180831082126-costa-coffee-cups-barista-780x439.jpg\" /> <meta property=\"og:image:width\" content=\"780\" /> <meta property=\"og:image:height\" content=\"439\" /> <meta property=\"og:site_name\" content=\"CNNMoney\" /> <meta property=\"og:description\" content=\"Coke has reached an agreement to buy Costa Coffee, which has nearly 4,000 stores across 32 countries.\" /> <meta property=\"fb:app_id\" content=\"521848191196480\"/>\\r\\n <meta name=\"twitter:card\" content=\"summary_large_image\"> <meta name=\"twitter:site\" content=\"@CNNMoney\"> <meta name=\"twitter:url\" content=\"https://money.cnn.com/2018/08/31/investing/coca-cola-company-costa/index.html\"> <meta name=\"twitter:title\" content=\"Coca-Cola is buying Costa Coffee for $5 billion\"> <meta name=\"twitter:description\" content=\"Coke has reached an agreement to buy Costa Coffee, which has nearly 4,000 stores across 32 countries.\"> <meta name=\"twitter:image\" content=\"https://i2.cdn.turner.com/money/dam/assets/180831082126-costa-coffee-cups-barista-540x304.jpg\"> <meta name=\"DC.date.issued\" content=\"2018-08-31T03:12:23\" /> <meta itemprop=\"cssSelector\" content=\".speakable\" /> <meta http-equiv=\"Content-Type\" content=\"text/html; charset=UTF-8\" /> <meta http-equiv=\"X-UA-Compatible\" content=\"IE=edge,chrome=1\" /> <link rel=\"stylesheet\" type=\"text/css\" href=\"https://z.cdn.turner.com/money/tmpl_asset/static/style/2705/css/cnnm-ocean.story-min.css\" /> <script type=\"text/javascript\" src=\"https://z.cdn.turner.com/money/tmpl_asset/static/script/2213/js/cnnmoney.main-min.js\"></script> <script type=\"text/javascript\" src=\"//z.cdn.turner.com/money/.e/script/jquery/1.11.1/jquery.min.js\"></script> <script type=\"text/javascript\" src=\"//z.cdn.turner.com/money/.e/script/jquery.migrate/jquery.migrate.min.js\"></script> <script language=\"JavaScript\" type=\"text/javascript\">var cnnSiteWideCurrDate = new Date(2014, 11, 4);</script> \\n<!--[if lt IE 9]>\\n<script src = \"//z.cdn.turner.com/money/.element/script/html5shiv/3.7.0/html5shiv.js\"> </script>\\n<![endif]-->\\n\\n<!--// Optimizely script include //-->\\n<script src=\"//cdn.optimizely.com/js/131788053.js\"></script>\\n\\n<!--// Pre-fetch calls //-->\\n<link rel=\"dns-prefetch\" href=\"//fastlane.rubiconproject.com\" />\\n<link rel=\"dns-prefetch\" href=\"//optimized-by.rubiconproject.com\" />\\n<link rel=\"dns-prefetch\" href=\"//ads.rubiconproject.com\" />\\n<link rel=\"dns-prefetch\" href=\"//aax.amazon-adsystem.com\" />\\n<link rel=\"dns-prefetch\" href=\"//c.amazon-adsystem.com\" />\\n<link rel=\"dns-prefetch\" href=\"//rtax.criteo.com\" />\\n<link rel=\"dns-prefetch\" href=\"//static.criteo.net\" />\\n<link rel=\"dns-prefetch\" href=\"//bidder.criteo.com\" />\\n\\n<link rel=\"dns-prefetch\" href=\"//indexww.com\" />\\n<link rel=\"dns-prefetch\" href=\"//js-sec.indexww.com\" />\\n<link rel=\"dns-prefetch\" href=\"//pagead2.googlesyndication.com\" />\\n<link rel=\"dns-prefetch\" href=\"//www.googletagservices.com\" />\\n<link rel=\"dns-prefetch\" href=\"//partner.googleadservices.com\" />\\n<link rel=\"dns-prefetch\" href=\"//i.cdn.turner.cnn.com\" />\\n<link rel=\"dns-prefetch\" href=\"//as.casalemedia.com\" />\\n<link rel=\"dns-prefetch\" href=\"//as-sec.casalemedia.com\" />\\n<link rel=\"dns-prefetch\" href=\"//dsum-sec.casalemedia.com\" />\\n<link rel=\"dns-prefetch\" href=\"//cdn.krxd.net\" />\\n\\n<style>\\n.cmmtcount {display: none;}\\n</style>\\n\\n<!-- OneTrust Cookies Consent -->\\n<script>\\n\\t(function (d) {\\n                var cookieScript =\\n\"//optanon.blob.core.windows.net/geoswitch/d22a6b50-6c73-4070-8922-86c722dd1f35.js\";\\n                if (location.hostname.match(/^money.cnn.com/i)) {\\n                        // production script\\n                        cookieScript =\\n\"//cdn.cookielaw.org/geoswitch/d22a6b50-6c73-4070-8922-86c722dd1f35.js\";\\n                }\\n\\n                var e = d.createElement(\\'script\\');\\n                e.src = cookieScript;\\n                e.async = false;\\n                d.getElementsByTagName(\"head\")[0].appendChild(e);\\n\\t}(document));\\n</script>\\n<!-- /OneTrust Cookies Consent -->\\n\\n<!-- Start BounceX tag. Deploy at the beginning of document head. -->\\n\\n<script>\\n(function(d) {\\n    var e = d.createElement(\\'script\\');\\n    e.src = d.location.protocol + \\'//tag.bounceexchange.com/340/i.js\\';\\n    e.async = true;\\n    d.getElementsByTagName(\"head\")[0].appendChild(e);\\n}(document));\\n</script>\\n\\n<!-- End BounceX Tag-->\\n <script type=\"text/javascript\"> var cnnActivePlayer = null; var cnnPlayers = []; var vidConfig = []; </script> \\r\\n<script type=\"text/javascript\">\\r\\nvar _sf_startpt=(new Date()).getTime();\\r\\ndocument.adoffset = 0;\\r\\n</script>\\r\\n<script type=\"text/javascript\" src=\"//i.cdn.turner.com/ads/adfuel/ais/cnn_money-ais.js\"></script>\\r\\n\\r\\n<script src=\"//i.cdn.turner.com/ads/adfuel/adfuel-1.2.4.min.js\"></script>\\r\\n\\r\\n\\r\\n<script>\\r\\nvar CNNMONEY = window.CNNMONEY || {};\\r\\nCNNMONEY.adTargets = {};\\r\\n\\r\\nif(document.referrer.match(\"edition|us|www.cnn.com\"))\\r\\n{\\r\\n\\tCNNMONEY.adTargets.refdom = \"cnn\";\\r\\n}\\r\\nelse if(document.referrer.match(\"money.cnn.com\"))\\r\\n{\\r\\n\\tCNNMONEY.adTargets.refdom = \"money\";\\r\\n}\\r\\nelse if(document.referrer.match(\"facebook.com\"))\\r\\n{\\r\\n\\tCNNMONEY.adTargets.refdom = \"facebook\";\\r\\n}\\r\\nelse if(document.referrer.match(\"twitter.com\") || document.referrer.match(\"/t.co/\"))\\r\\n{\\r\\n\\tCNNMONEY.adTargets.refdom = \"twitter\";\\r\\n}\\r\\nelse if(document.referrer.match(\"google.com\"))\\r\\n{\\r\\n\\tCNNMONEY.adTargets.refdom = \"google\";\\r\\n}\\r\\nelse\\r\\n{\\r\\n\\tCNNMONEY.adTargets.refdom = \"other\";\\r\\n}\\r\\n</script>\\r\\n <script type=\"text/javascript\"> CNNMONEY.adTargets.c_type = \\'article\\'; </script> <script>AdFuel.queueRegistry(\"//z.cdn.turner.com/ads/cnn_money/cnnmoney_investing.min.js\");</script>\\n </head> <body class=\"cnn-story\"> <div id=\"ad_bnr_atf_02\"></div> <div class=\"navAdBannerWrapper\" id=\"js-sticky-NavAdAnchor\"> <div class=\"navAdBanner\" id=\"js-sticky-NavAd\"> <div id=\"adBanner\"><div id=\"ad_bnr_atf_01\"></div></div> <div class=\"moneyMarketsNav\"> \\n\\n\\n\\n\\n\\t    <link rel=\\'stylesheet\\' href=\"//money.cnn.com/static/modules/css/header.c3fdde767a6c51fa9106.css\">\\n\\n\\t    <div id=\"react_header\" data-reactroot=\"\"><header class=\"cdc3a263\"><div style=\"height:auto\"><div class=\"f7dfcd87\" data-sticky=\"false\" data-visible=\"true\"><div class=\"_6383c61a\"><div class=\"b64f61fb\"><span id=\"cnnmoney_nav_logo\" class=\"f9786d8e\"><a class=\"a2419916\" target=\"_self\" rel=\"noopener\" href=\"//money.cnn.com/\"><img class=\"f234abe9\" src=\"//i.cdn.turner.com/money/.element/cnnm-3.0/img/logo/cnnmoney_blue.svg\"/></a></span><nav><ul class=\"_60e26384\" id=\"cnnmoney_nav\"><li class=\"_5f9b3bb2\" id=\"cnnmoney_nav_link_0\" style=\"animation-delay:0s\"><a class=\"_8d6b7d01\" rel=\"noopener\" href=\"//money.cnn.com/news/companies/\">Companies</a></li><li class=\"_5f9b3bb2\" id=\"cnnmoney_nav_link_1\" style=\"animation-delay:0.05s\"><a class=\"_8d6b7d01\" rel=\"noopener\" href=\"//money.cnn.com/markets/?iid=Mark_Nav\">Markets</a></li><li class=\"_5f9b3bb2\" id=\"cnnmoney_nav_link_2\" style=\"animation-delay:0.1s\"><a class=\"_8d6b7d01\" rel=\"noopener\" href=\"//money.cnn.com/technology/?iid=Tech_Nav\">Tech</a></li><li class=\"_5f9b3bb2\" id=\"cnnmoney_nav_link_3\" style=\"animation-delay:0.15000000000000002s\"><a class=\"_8d6b7d01\" rel=\"noopener\" href=\"//money.cnn.com/media/?iid=Media_Nav\">Media</a></li></ul></nav></div><div class=\"_35a2ba36\"><div><div class=\"_4d9e41ec\" data-visible=\"false\"><div class=\"_4b99c951\" id=\"cnnmoney_subnav\"><div class=\"e635dcf4\"><div class=\"_5c2ff3be undefined\" style=\"animation-delay:0s\"><div class=\"_977bec60\" id=\"cnnmoney_subnav_section_0_0\"><a class=\"_22da31b0 noTextFlicker\" rel=\"noopener\" href=\"//money.cnn.com/news/companies/\">companies</a></div><div class=\"_977bec60\" id=\"cnnmoney_subnav_section_0_1\"><a class=\"_22da31b0 noTextFlicker\" rel=\"noopener\" href=\"//money.cnn.com/news/\">News</a><a class=\"_87909ed0 noTextFlicker\" id=\"cnnmoney_subnav_section_0_1_link_0\" rel=\"noopener\" href=\"//money.cnn.com/news/economy/\">Economy</a><a class=\"_87909ed0 noTextFlicker\" id=\"cnnmoney_subnav_section_0_1_link_1\" rel=\"noopener\" href=\"//money.cnn.com/news/economy/your-money-your-america/\">Your Money, Your America</a><a class=\"_87909ed0 noTextFlicker\" id=\"cnnmoney_subnav_section_0_1_link_2\" rel=\"noopener\" href=\"//money.cnn.com/news/economy/davos/\">Davos</a></div></div><div class=\"_5c2ff3be undefined\" style=\"animation-delay:0.075s\"><div class=\"_977bec60\" id=\"cnnmoney_subnav_section_1_0\"><a class=\"_22da31b0 noTextFlicker\" rel=\"noopener\" href=\"//money.cnn.com/data/markets/\">markets</a><a class=\"_87909ed0 noTextFlicker\" id=\"cnnmoney_subnav_section_1_0_link_0\" rel=\"noopener\" href=\"//money.cnn.com/data/premarket/\">premarkets</a><a class=\"_87909ed0 noTextFlicker\" id=\"cnnmoney_subnav_section_1_0_link_1\" rel=\"noopener\" href=\"//money.cnn.com/data/dow30/\">dow 30</a><a class=\"_87909ed0 noTextFlicker\" id=\"cnnmoney_subnav_section_1_0_link_2\" rel=\"noopener\" href=\"//money.cnn.com/data/afterhours/\">After-Hours</a><a class=\"_87909ed0 noTextFlicker\" id=\"cnnmoney_subnav_section_1_0_link_3\" rel=\"noopener\" href=\"//money.cnn.com/data/hotstocks/\">market movers</a><a class=\"_87909ed0 noTextFlicker\" id=\"cnnmoney_subnav_section_1_0_link_4\" rel=\"noopener\" href=\"//money.cnn.com/data/fear-and-greed/\">fear &amp; greed</a><a class=\"_87909ed0 noTextFlicker\" id=\"cnnmoney_subnav_section_1_0_link_5\" rel=\"noopener\" href=\"//money.cnn.com/data/world_markets/americas/\">world markets</a><a class=\"_87909ed0 noTextFlicker\" id=\"cnnmoney_subnav_section_1_0_link_6\" rel=\"noopener\" href=\"//money.cnn.com/investing/\">investing</a><a class=\"_87909ed0 noTextFlicker\" id=\"cnnmoney_subnav_section_1_0_link_7\" rel=\"noopener\" href=\"//money.cnn.com/investing/markets-now/\">markets now</a><a class=\"_87909ed0 noTextFlicker\" id=\"cnnmoney_subnav_section_1_0_link_8\" rel=\"noopener\" href=\"//money.cnn.com/investing/before-the-bell/\">before the bell</a><a class=\"_87909ed0 noTextFlicker\" id=\"cnnmoney_subnav_section_1_0_link_9\" rel=\"noopener\" href=\"//money.cnn.com/investing/romans-numeral/\">romans&#x27; numeral</a><a class=\"_87909ed0 noTextFlicker\" id=\"cnnmoney_subnav_section_1_0_link_10\" rel=\"noopener\" href=\"//markets.money.cnn.com/Marketsdata/Sectors/\">Sectors</a><a class=\"_87909ed0 noTextFlicker\" id=\"cnnmoney_subnav_section_1_0_link_11\" rel=\"noopener\" href=\"//money.cnn.com/investing/quest-profitable-moment/\">Quest&#x27;s Profitable Moment</a></div></div><div class=\"_5c2ff3be undefined\" style=\"animation-delay:0.15s\"><div class=\"_977bec60\" id=\"cnnmoney_subnav_section_2_0\"><a class=\"_22da31b0 noTextFlicker\" rel=\"noopener\" href=\"//money.cnn.com/technology/\">tech</a><a class=\"_87909ed0 noTextFlicker\" id=\"cnnmoney_subnav_section_2_0_link_0\" rel=\"noopener\" href=\"//money.cnn.com/technology/pacific/\">Pacific</a><a class=\"_87909ed0 noTextFlicker\" id=\"cnnmoney_subnav_section_2_0_link_1\" rel=\"noopener\" href=\"//money.cnn.com/technology/work-transformed/\">Work Transformed</a><a class=\"_87909ed0 noTextFlicker\" id=\"cnnmoney_subnav_section_2_0_link_2\" rel=\"noopener\" href=\"//money.cnn.com/technology/living-in-the-future/\">Living in the Future</a><a class=\"_87909ed0 noTextFlicker\" id=\"cnnmoney_subnav_section_2_0_link_3\" rel=\"noopener\" href=\"//money.cnn.com/technology/innovate/\">Innovate</a><a class=\"_87909ed0 noTextFlicker\" id=\"cnnmoney_subnav_section_2_0_link_4\" rel=\"noopener\" href=\"//money.cnn.com/technology/our-driverless-future/\">Our Driverless Future</a><a class=\"_87909ed0 noTextFlicker\" id=\"cnnmoney_subnav_section_2_0_link_5\" rel=\"noopener\" href=\"//money.cnn.com/technology/business/\">Tech Business</a><a class=\"_87909ed0 noTextFlicker\" id=\"cnnmoney_subnav_section_2_0_link_6\" rel=\"noopener\" href=\"//money.cnn.com/technology/culture/\">Culture</a><a class=\"_87909ed0 noTextFlicker\" id=\"cnnmoney_subnav_section_2_0_link_7\" rel=\"noopener\" href=\"//money.cnn.com/technology/future/\">Future</a><a class=\"_87909ed0 noTextFlicker\" id=\"cnnmoney_subnav_section_2_0_link_8\" rel=\"noopener\" href=\"//money.cnn.com/technology/startups/\">Startups</a></div></div><div class=\"_5c2ff3be undefined\" style=\"animation-delay:0.22499999999999998s\"><div class=\"_977bec60\" id=\"cnnmoney_subnav_section_3_0\"><a class=\"_22da31b0 noTextFlicker\" rel=\"noopener\" href=\"//money.cnn.com/pf/\">personal finance</a><a class=\"_87909ed0 noTextFlicker\" id=\"cnnmoney_subnav_section_3_0_link_0\" rel=\"noopener\" href=\"//money.cnn.com/pf/money-essentials/\">Money Essentials</a><a class=\"_87909ed0 noTextFlicker\" id=\"cnnmoney_subnav_section_3_0_link_1\" rel=\"noopener\" href=\"//money.cnn.com/retirement/new-rules-for-retirement/\">New Rules for Retirement</a><a class=\"_87909ed0 noTextFlicker\" id=\"cnnmoney_subnav_section_3_0_link_2\" rel=\"noopener\" href=\"//money.cnn.com/pf/money-moves/\">Money Moves</a><a class=\"_87909ed0 noTextFlicker\" id=\"cnnmoney_subnav_section_3_0_link_3\" rel=\"noopener\" href=\"//money.cnn.com/tools/\">Calculators</a><a class=\"_87909ed0 noTextFlicker\" id=\"cnnmoney_subnav_section_3_0_link_4\" rel=\"noopener\" href=\"//money.cnn.com/pf/loan_center/\">Finance Center</a></div><div class=\"_977bec60\" id=\"cnnmoney_subnav_section_3_1\"><a class=\"_22da31b0 noTextFlicker\" rel=\"noopener\" href=\"//money.cnn.com/media/\">Media</a></div><div class=\"_977bec60\" id=\"cnnmoney_subnav_section_3_2\"><span class=\"_22da31b0 noTextFlicker\">Success</span><a class=\"_87909ed0 noTextFlicker\" id=\"cnnmoney_subnav_section_3_2_link_0\" rel=\"noopener\" href=\"//money.cnn.com/news/boss-files/\">Boss Files</a><a class=\"_87909ed0 noTextFlicker\" id=\"cnnmoney_subnav_section_3_2_link_1\" rel=\"noopener\" href=\"//money.cnn.com/news/fresh-money/\">Fresh Money</a><a class=\"_87909ed0 noTextFlicker\" id=\"cnnmoney_subnav_section_3_2_link_2\" rel=\"noopener\" href=\"//money.cnn.com/smallbusiness/\">Entrepreneurs</a><a class=\"_87909ed0 noTextFlicker\" id=\"cnnmoney_subnav_section_3_2_link_3\" rel=\"noopener\" href=\"//money.cnn.com/news/my-american-success-story/\">My American Success Story</a></div><div class=\"_977bec60\" id=\"cnnmoney_subnav_section_3_3\"><span class=\"_22da31b0 noTextFlicker\">More...</span><a class=\"_87909ed0 noTextFlicker\" id=\"cnnmoney_subnav_section_3_3_link_0\" rel=\"noopener\" href=\"//money.cnn.com/surge/index.html\">SURGE</a><a class=\"_87909ed0 noTextFlicker\" id=\"cnnmoney_subnav_section_3_3_link_1\" rel=\"noopener\" href=\"https://www.cnn.com/email/subscription\">Newsletters</a><a class=\"_87909ed0 noTextFlicker\" id=\"cnnmoney_subnav_section_3_3_link_2\" rel=\"noopener\" href=\"//money.cnn.com/profile/\">Alerts: Sign up/Manage</a><a class=\"_87909ed0 noTextFlicker\" id=\"cnnmoney_subnav_section_3_3_link_3\" rel=\"noopener\" href=\"//money.cnn.com/interactive/\">Interactives</a><a class=\"_87909ed0 noTextFlicker\" id=\"cnnmoney_subnav_section_3_3_link_4\" rel=\"noopener\" href=\"//money.cnn.com/services/speakup/speakup.html\">Contact Us</a><a class=\"_87909ed0 noTextFlicker\" id=\"cnnmoney_subnav_section_3_3_link_5\" rel=\"noopener\" href=\"//money.cnn.com/services/closed-captioning.html\">Closed Captioning</a></div></div></div><div class=\"d7bc671c\"><p>Follow us: </p><div id=\"cnnmoney_subnav_social\"><a href=\"//twitter.com/CNNMoney\" target=\"_blank\" rel=\"noopener\" class=\"d108d922\" style=\"margin-right:25px\"><svg width=\"26\" height=\"21\" viewBox=\"0 0 30 24\" version=\"1.1\" xmlns=\"https://www.w3.org/2000/svg\"><path fill=\"#fff\" d=\"M29.536,2.84 C28.449,3.323 27.281,3.649 26.057,3.793 C27.307,3.044 28.266,1.856 28.721,0.442 C27.552,1.135 26.253,1.641 24.873,1.912 C23.769,0.739 22.193,0 20.448,0 C17.105,0 14.389,2.712 14.389,6.06 C14.389,6.534 14.442,6.998 14.547,7.44 C9.511,7.185 5.048,4.773 2.06,1.109 C1.537,2.003 1.237,3.045 1.237,4.154 C1.237,6.257 2.31,8.112 3.935,9.198 C2.941,9.168 2.006,8.895 1.191,8.44 L1.191,8.516 C1.191,11.451 3.28,13.901 6.05,14.457 C5.541,14.595 5.007,14.669 4.454,14.669 C4.065,14.669 3.683,14.631 3.314,14.561 C4.085,16.969 6.321,18.719 8.976,18.769 C6.896,20.392 4.287,21.361 1.451,21.361 C0.962,21.361 0.473,21.335 -1.77635684e-15,21.277 C2.684,22.998 5.867,24 9.292,24 C20.437,24 26.529,14.77 26.529,6.762 C26.529,6.499 26.523,6.237 26.513,5.977 C27.695,5.122 28.725,4.056 29.536,2.84 Z\" id=\"Shape\"></path></svg></a><a href=\"//www.facebook.com/cnnmoney\" target=\"_blank\" rel=\"noopener\" class=\"d108d922\" style=\"margin-right:25px\"><svg width=\"21\" height=\"21\" viewBox=\"0 0 20 20\" xmlns=\"https://www.w3.org/2000/svg\"><path d=\"M1.103809,0 C0.494128755,0 0,0.494128755 0,1.103809 L0,18.896191 C0,19.5057963 0.494128755,20.0000749 1.103809,20.0000749 L10.682668,20.0000749 L10.682668,12.2549776 L8.07624001,12.2549776 L8.07624001,9.23655084 L10.682668,9.23655084 L10.682668,7.01057349 C10.682668,4.42737566 12.260373,3.02074981 14.5648085,3.02074981 C15.6686924,3.02074981 16.6173837,3.10287979 16.893823,3.13959849 L16.893823,5.83924704 L15.2955855,5.8399964 C14.0423539,5.8399964 13.7996358,6.43551372 13.7996358,7.30941872 L13.7996358,9.23655084 L16.7886127,9.23655084 L16.3994695,12.2549776 L13.7996358,12.2549776 L13.7996358,20.0000749 L18.896191,20.0000749 C19.5057963,20.0000749 20,19.5057963 20,18.896191 L20,1.103809 C20,0.494128755 19.5057963,0 18.896191,0 L1.103809,0 Z\" fill=\"#fff\"></path></svg></a><a href=\"//www.instagram.com/cnnmoney\" target=\"_blank\" rel=\"noopener\" class=\"d108d922\" style=\"margin-right:\"><svg width=\"21\" height=\"21\" viewBox=\"0 0 20 20\" xmlns=\"https://www.w3.org/2000/svg\"><defs><polygon points=\"9.99683532 19.9861889 0 19.9861889 0 0.00630516673 9.99683532 0.00630516673 19.9936706 0.00630516673 19.9936706 19.9861889\"></polygon></defs><g stroke=\"none\" stroke-width=\"1\" fill=\"none\" fill-rule=\"evenodd\"><g><g transform=\"translate(0.000000, 0.033350)\"><g><g></g><path d=\"M9.99684524,0.00630516673 C7.28184524,0.00630516673 6.94140873,0.0178051564 5.87517857,0.0664223539 C4.81109127,0.114920586 4.0844246,0.283811813 3.4485119,0.530744349 C2.79113095,0.786044119 2.23363095,1.12763347 1.67787698,1.68300366 C1.12212302,2.2384135 0.780297619,2.79552852 0.524821429,3.45245551 C0.277678571,4.08788942 0.108710317,4.81409394 0.0601388889,5.87740677 C0.0114880952,6.9429403 -1.98412698e-05,7.28314171 -1.98412698e-05,9.99626686 C-1.98412698e-05,12.7093523 0.0114880952,13.0495538 0.0601388889,14.1150873 C0.108710317,15.1784001 0.277678571,15.9046046 0.524821429,16.5400385 C0.780297619,17.1969655 1.12212302,17.7540806 1.67787698,18.3094904 C2.23363095,18.8648606 2.79113095,19.2064499 3.4485119,19.4617497 C4.0844246,19.7086822 4.81109127,19.8775735 5.87517857,19.9260717 C6.94140873,19.9747286 7.28184524,19.9861889 9.99684524,19.9861889 C12.7118452,19.9861889 13.0522421,19.9747286 14.1185119,19.9260717 C15.1825992,19.8775735 15.9092659,19.7086822 16.5451786,19.4617497 C17.2025595,19.2064499 17.7600595,18.8648606 18.3158135,18.3094904 C18.8715675,17.7540806 19.2133929,17.1969655 19.468869,16.5400385 C19.7160119,15.9046046 19.8849802,15.1784001 19.9335516,14.1150873 C19.9822024,13.0495538 19.9936706,12.7093523 19.9936706,9.99626686 C19.9936706,7.28314171 19.9822024,6.9429403 19.9335516,5.87740677 C19.8849802,4.81409394 19.7160119,4.08788942 19.468869,3.45245551 C19.2133929,2.79552852 18.8715675,2.2384135 18.3158135,1.68300366 C17.7600595,1.12763347 17.2025595,0.786044119 16.5451786,0.530744349 C15.9092659,0.283811813 15.1825992,0.114920586 14.1185119,0.0664223539 C13.0522421,0.0178051564 12.7118452,0.00630516673 9.99684524,0.00630516673 M9.99684524,1.80629148 C12.666131,1.80629148 12.9822817,1.81648285 14.0364087,1.86454487 C15.0110913,1.90895862 15.5404167,2.07170331 15.8927183,2.20851353 C16.3593056,2.3897375 16.6923611,2.60621489 17.0421627,2.95581458 C17.3919643,3.30537461 17.608631,3.63816052 17.7899405,4.10446527 C17.9268452,4.45648392 18.0897024,4.98544378 18.1341865,5.95945325 C18.1822817,7.0128523 18.1924405,7.32882443 18.1924405,9.99626686 C18.1924405,12.6636696 18.1822817,12.9796418 18.1341865,14.0330408 C18.0897024,15.0070503 17.9268452,15.5360101 17.7899405,15.8880288 C17.608631,16.3543335 17.3919643,16.6871194 17.0421627,17.0366795 C16.6923611,17.3862792 16.3593056,17.6027566 15.8927183,17.7839805 C15.5404167,17.9207908 15.0110913,18.0835354 14.0364087,18.1279492 C12.9824405,18.1760112 12.6662897,18.1862026 9.99684524,18.1862026 C7.32740079,18.1862026 7.01125,18.1760112 5.95728175,18.1279492 C4.98259921,18.0835354 4.45323413,17.9207908 4.10097222,17.7839805 C3.63438492,17.6027566 3.30132937,17.3862792 2.95152778,17.0366795 C2.60172619,16.6871194 2.38505952,16.3543335 2.20371032,15.8880288 C2.06684524,15.5360101 1.9039881,15.0070503 1.85950397,14.0330408 C1.81140873,12.9796418 1.80125,12.6636696 1.80125,9.99626686 C1.80125,7.32882443 1.81140873,7.0128523 1.85950397,5.95945325 C1.9039881,4.98544378 2.06684524,4.45648392 2.20371032,4.10446527 C2.38505952,3.63816052 2.60172619,3.30537461 2.95152778,2.95581458 C3.30132937,2.60621489 3.63438492,2.3897375 4.10097222,2.20851353 C4.45323413,2.07170331 4.98259921,1.90895862 5.95724206,1.86454487 C7.01140873,1.81648285 7.32755952,1.80629148 9.99684524,1.80629148\" fill=\"#fff\" fill-rule=\"nonzero\"></path></g></g><path d=\"M9.99684524,13.3595776 C8.1564881,13.3595776 6.66454365,11.8687031 6.66454365,10.0296168 C6.66454365,8.1904909 8.1564881,6.69961638 9.99684524,6.69961638 C11.8372024,6.69961638 13.3291071,8.1904909 13.3291071,10.0296168 C13.3291071,11.8687031 11.8372024,13.3595776 9.99684524,13.3595776 M9.99684524,4.89963007 C7.16168651,4.89963007 4.86331349,7.19637627 4.86331349,10.0296168 C4.86331349,12.8628177 7.16168651,15.1595639 9.99684524,15.1595639 C12.832004,15.1595639 15.130377,12.8628177 15.130377,10.0296168 C15.130377,7.19637627 12.832004,4.89963007 9.99684524,4.89963007\" fill=\"#fff\" fill-rule=\"nonzero\"></path><path d=\"M16.5328095,4.69694077 C16.5328095,5.35902293 15.9957063,5.89571555 15.3332063,5.89571555 C14.6706667,5.89571555 14.1335635,5.35902293 14.1335635,4.69694077 C14.1335635,4.03485861 14.6706667,3.49816599 15.3332063,3.49816599 C15.9957063,3.49816599 16.5328095,4.03485861 16.5328095,4.69694077\" fill=\"#fff\" fill-rule=\"nonzero\"></path></g></g></svg></a></div></div></div></div><div class=\"_4d9e41ec\" data-visible=\"false\"><div id=\"cnnmoney_nav_search_results\" class=\"ec8bf2b7 \"><div class=\"f348fedb\"><input class=\"aa0c05fc\" placeholder=\"\" value=\"\"/><div><div id=\"cnnmoney_nav_search_submit\" class=\"_8d950418\">Search News<span class=\"_17b943e0\"><svg width=\"12\" height=\"12\" viewBox=\"0 0 12 10\"><g stroke=\"none\" stroke-width=\"1\" fill=\"none\" fill-rule=\"evenodd\" stroke-linecap=\"round\" stroke-linejoin=\"round\"><g transform=\"translate(-1259.000000, -165.000000)\" stroke=\"#ffffff\"><g transform=\"translate(970.000000, 159.000000)\"><g transform=\"translate(250.000000, 3.000000)\"><g transform=\"translate(40.000000, 4.000000)\"><g><path d=\"M0.5,3.5 L8.5,3.5\" id=\"Line-3\" stroke-width=\"2\" fill=\"transparent\"></path><path d=\"M6.10393151,0 L9.68170465,3.57777315 C7.22723488,6.03837538 6,7.26561026 6,7.2594778\" fill=\"transparent\" stroke-width=\"2\"></path></g></g></g></g></g></g></svg></span></div></div></div><div class=\"e9d22fdb \"><div><div class=\"e4ee960f\"><h3 class=\"bbd955c0\">Symbol Matches</h3></div><div class=\"e4ee960f\"><h3 class=\"bbd955c0\">Symbol Starts With</h3></div><div class=\"e4ee960f\"><h3 class=\"bbd955c0\">Company Matches</h3></div></div></div></div></div></div><div class=\"_6ddb9755 noSelect\"><div class=\"_0bd1defc _1daf93aa\"><span></span><span class=\"e96396a7 e950e6c4\"></span></div><ul class=\"_14101a74\"><li class=\"_1daf93aa\"><a class=\"_9581cdde\" id=\"cnnmoney_nav_editionizer_U.S.\" rel=\"noopener\" href=\"//money.cnn.com/?iid=dmstedition\">U.S.</a></li><li class=\"_1daf93aa\"><a class=\"_9581cdde\" id=\"cnnmoney_nav_editionizer_International\" rel=\"noopener\" href=\"//money.cnn.com/?iid=intnledition\">International</a></li><li class=\"_1daf93aa\"><a class=\"_9581cdde\" id=\"cnnmoney_nav_editionizer_Switzerland\" rel=\"nofollow\" href=\"//cnnmoney.ch\">Switzerland</a></li></ul></div><button class=\"bd8eec15\" id=\"cnnmoney_nav_search_toggle\"><div class=\"_3a84b9ba\"><svg width=\"18\" height=\"18\" viewBox=\"0 0 18 15\" version=\"1.1\" xmlns=\"https://www.w3.org/2000/svg\"><path fill=\"#fff\" d=\"M7.52,7.507 L1.2,13.826 C0.932404442,14.0951375 0.932404442,14.5298625 1.2,14.799 C1.46925373,15.0672591 1.90474627,15.0672591 2.174,14.799 L8.493,8.481 L14.805,14.797 C15.077,15.067 15.523,15.067 15.795,14.797 C15.9259276,14.6667481 15.9995391,14.4896825 15.9995391,14.305 C15.9995391,14.1203175 15.9259276,13.9432519 15.795,13.813 L9.48,7.493 L15.8,1.174 C16.0675956,0.904862491 16.0675956,0.470137509 15.8,0.201 C15.5307463,-0.0672590835 15.0952537,-0.0672590835 14.826,0.201 L8.507,6.52 L2.195,0.203 C1.92028214,-0.067134075 1.47971786,-0.067134075 1.205,0.203 C1.07431882,0.333383108 1.00087779,0.51039955 1.00087779,0.695 C1.00087779,0.87960045 1.07431882,1.05661689 1.205,1.187 L7.52,7.507 L7.52,7.507 Z\"></path></svg></div><div class=\"_323973ef\"><svg width=\"18\" height=\"18\" transform=\"\" viewBox=\"0 0 17 17\" version=\"1.1\" xmlns=\"https://www.w3.org/2000/svg\" aria-label=\"Search\"><path d=\"M11.881,10.572 C11.9893231,10.6213476 12.0878912,10.6897694 12.172,10.774 L16.705,15.307 C16.8928964,15.4923623 16.9990857,15.7450216 17.0000243,16.0089597 C17.0009629,16.2728979 16.8965733,16.526306 16.71,16.713 C16.3198502,17.0976703 15.692402,17.0954374 15.305,16.708 L10.772,12.175 C10.6877403,12.0910784 10.6190119,11.992895 10.569,11.885 C8.56835991,13.3879679 5.8900292,13.6309044 3.65161333,12.5124377 C1.41319747,11.3939711 -0.000664240991,9.10629352 7.33080255e-16,6.604 C-0.00028719182,3.73010495 1.85831487,1.1860673 4.59627597,0.312659127 C7.33423707,-0.56074905 10.3226927,0.437079704 11.9866512,2.78026444 C13.6506098,5.12344918 13.6078875,8.273799 11.881,10.571 L11.881,10.572 Z M6.603,11.887 C8.50757844,11.9130244 10.2787059,10.9117884 11.2384831,9.26651516 C12.1982603,7.62124193 12.1980677,5.58669878 11.2379791,3.94160728 C10.2778904,2.29651577 8.50657348,1.29561507 6.602,1.322 C3.71289804,1.36175149 1.39168253,3.71512458 1.39168253,6.6045 C1.39168253,9.49387542 3.71289804,11.8472485 6.602,11.887 L6.603,11.887 Z\" fill=\"#08152e\"></path></svg></div></button><button class=\"bd8eec15\" id=\"cnnmoney_subnav_toggle\"><div class=\"_3a84b9ba\"><svg width=\"18\" height=\"18\" viewBox=\"0 0 18 15\" version=\"1.1\" xmlns=\"https://www.w3.org/2000/svg\"><path fill=\"#fff\" d=\"M7.52,7.507 L1.2,13.826 C0.932404442,14.0951375 0.932404442,14.5298625 1.2,14.799 C1.46925373,15.0672591 1.90474627,15.0672591 2.174,14.799 L8.493,8.481 L14.805,14.797 C15.077,15.067 15.523,15.067 15.795,14.797 C15.9259276,14.6667481 15.9995391,14.4896825 15.9995391,14.305 C15.9995391,14.1203175 15.9259276,13.9432519 15.795,13.813 L9.48,7.493 L15.8,1.174 C16.0675956,0.904862491 16.0675956,0.470137509 15.8,0.201 C15.5307463,-0.0672590835 15.0952537,-0.0672590835 14.826,0.201 L8.507,6.52 L2.195,0.203 C1.92028214,-0.067134075 1.47971786,-0.067134075 1.205,0.203 C1.07431882,0.333383108 1.00087779,0.51039955 1.00087779,0.695 C1.00087779,0.87960045 1.07431882,1.05661689 1.205,1.187 L7.52,7.507 L7.52,7.507 Z\"></path></svg></div><div class=\"_323973ef\"><svg width=\"18\" height=\"18\" viewBox=\"0 0 15 15\" version=\"1.1\" xmlns=\"https://www.w3.org/2000/svg\"><g id=\"hamburger\" fill=\"#08152e\"><rect id=\"Rectangle-path\" x=\"0\" y=\"0\" width=\"15\" height=\"2\" rx=\"1\"></rect><rect id=\"Rectangle-path\" x=\"0\" y=\"6.5\" width=\"15\" height=\"2\" rx=\"1\"></rect><rect id=\"Rectangle-path\" x=\"0\" y=\"13\" width=\"15\" height=\"2\" rx=\"1\"></rect></g></svg></div></button></div></div></div></div></header><script>window.__ENVIRONMENTS__ = { configEnv: \\'production\\', deviceType: \\'undefined\\'}</script></div>\\n\\n\\t    <script crossorigin defer src=\"//money.cnn.com/static/modules/manifest.afc54036a8ce437947f9.js\" /></script>\\n\\t    <script crossorigin defer src=\"//money.cnn.com/static/modules/vendor.afc54036a8ce437947f9.js\" /></script>\\n\\t    <script crossorigin defer src=\"//money.cnn.com/static/modules/babel-polyfill.afc54036a8ce437947f9.js\" /></script>\\n\\t    <script crossorigin defer src=\"//money.cnn.com/static/modules/header.afc54036a8ce437947f9.js\" /></script>\\n\\n    <style>\\n        /* Header Nav Menu Desktop */\\n        #react_header {\\n            position: relative;\\n            z-index: 30;\\n            min-width: 1140px;\\n            text-align: left;\\n        }\\n        #react_header a {\\n            text-decoration: none;\\n        }\\n        \\n        .responsive #react_header  {\\n            min-width: unset;\\n        }\\n\\n        /* Flyout Nav */\\n        #react_header .noTextFlicker {\\n                -webkit-font-smoothing: auto;\\n        }\\n\\n        #cnnMoneyGallery {\\n            width: 100%;\\n        }\\n        #galleryContent {\\n            margin-left: auto;\\n            margin-right: auto;\\n        }\\n    </style>\\n </div> </div> </div> <main class=\"container js-social-anchor-start\" role=\"main\"> <header> <div class=\"row\"> <div class=\"column\"> <div class=\"breadcrumb\"> </div> <h1 class=\"article-title speakable\">Coca-Cola is buying Costa Coffee for $5 billion</h1> <style>\\n#ad_ns_atf_01 {\\n  float: right;\\n  margin-bottom: 8px;\\n  display: inline-block;\\n}\\n</style>\\n<div id=\"ad_ns_atf_01\"></div>\\n </div> </div> <div class=\"row\"> <div class=\"column share-byline-timestamp\"> <span class=\"byline-timestamp\"> <span id=\"js-byline-icon\"> </span> <span class=\"cnnbyline \"> <span class=\"byline\">by Rishi Iyengar </span>&nbsp; <a href=\"https://twitter.com/intent/user?screen_name=Iyengarish\" class=\"soc-twtname\">@Iyengarish</a> </span> <span class=\"cnnDateStamp\"> August 31, 2018: 6:52 AM ET </span> </span> <div class=\"share-tools share-tools--main\" id=\"js-sharebar-main\"></div> </div> </div> </header> <div class=\"row two-columns-fixed-rr\"> <section class=\"column\"> <article class=\"module\"> <div id=\"storycontent\" > <!--storytext--> <div id=\"storytext\"> <div id=\"js-ie-storytop\" class=\"ie--storytop\"> <script type=\"text/javascript\"> vidConfig.push({ playlist : [ {id : \"/video/news/2018/02/02/coca-cola-ceo-we-try-to-be-more-than-a-soda-company.cnnmoney\", collection: \"\"} ], loc : \\'top\\', autostart : true, playerprofile : \\'story\\', playerid : \\'vid0\\', hedtarget : \\'#cnnplayer0 .cnnHeadline\\', divid : \\'vid0\\' }); </script> <div class=\"cnnplayer\" id=\"cnnplayer0\"> <div class=\"cnnVidplayer\"> <div class=\"summaryImg\" id=\"vid0\" href=\"/video/news/2018/02/02/coca-cola-ceo-we-try-to-be-more-than-a-soda-company.cnnmoney\"> <img src=\"https://i2.cdn.turner.com/money/dam/assets/180202121918-videocard-coke-ceo-james-quincey-1024x576.jpeg\" width=\"780\" height=\"439\" alt=\"Coca-Cola CEO: \\'We try to be more than a soda company\\'\" border=\"0\" /> </div> </div> <div class=\"cnnVidFooter\"> <div class=\"js-vid-hed-vid0 cnnHeadline\">Coca-Cola CEO: \\'We try to be more than a soda company\\'</div> <div class=\"js-vid-countdown-vid0 countdown\"></div> </div> </div> </div> <div class=\"share-tools share-tools--floater\" id=\"js-sharebar-floater\"></div>\\n <h2 class=\"speakable\">Coca-Cola is getting a $5 billion shot of caffeine.</h2> <p class=\"speakable\"> The company has agreed to buy coffee chain Costa Coffee from UK drinks and hotels group Whitbread for £3.9 billion ($5.1 billion). </p> <div id=\"ie_column\"> <div id=\"myfinance-cnn-desktop-atf\" class=\"myFinance-widget\" data-type=\"vertical\" data-campaign=\"cnnmoney-ic-cru\"></div>\\r\\n\\r\\n<script async type=\\'text/javascript\\' id=\"myFinance-widget-script\">\\r\\n!(function() {\\r\\n    function e() {\\r\\n        var e = document.createElement(\\'script\\'),\\r\\n            n = document.getElementById(\\'myFinance-widget-script\\'),\\r\\n            a = t + \\'static/widget/myFinance.js\\';\\r\\n        (e.type = \\'text/javascript\\'), (e.async = !0), (e.src = a), n.parentNode.insertBefore(e, n);\\r\\n        var c = \\'myFinance-widget-css\\';\\r\\n        if (!document.getElementById(c)) {\\r\\n            var d = document.getElementsByTagName(\\'head\\')[0],\\r\\n                i = document.createElement(\\'link\\');\\r\\n            (i.id = c),\\r\\n                (i.rel = \\'stylesheet\\'),\\r\\n                (i.type = \\'text/css\\'),\\r\\n                (i.href = t + \\'static/widget/myFinance.css\\'),\\r\\n                (i.media = \\'all\\'),\\r\\n                d.appendChild(i);\\r\\n        }\\r\\n    }\\r\\n    var t = \\'https://www.myfinance.com/\\';\\r\\n    document.attachEvent\\r\\n        ? document.attachEvent(\\'onreadystatechange\\', function() {\\r\\n              \\'complete\\' === document.readyState && e();\\r\\n          })\\r\\n        : document.addEventListener(\\'DOMContentLoaded\\', e, !1);\\r\\n})();\\r\\n</script>\\r\\n </div> <p class=\"speakable\"> Costa has nearly 4,000 stores across 32 countries. It will give <span>Coca-Cola</span> <span>(<span class=\\'inlink_chart\\'><a href=\\'https://money.cnn.com/quote/quote.html?symb=KO&amp;source=story_quote_link\\' class=\\'inlink\\'>KO</a></span>)</span> \"a strong coffee platform across parts of Europe, Asia Pacific, the Middle East and Africa, with the opportunity for additional expansion,\" Coca-Cola said in a statement. </p> <p> Besides its thousands of retail stores, Costa Coffee also has smaller on-the-go outlets called Costa Express, a roastery and for-home coffee products. </p> <p> Whitbread, which acquired Costa in 1995, said it will use proceeds from the sale of the coffee business to expand its other big brand, Premier Inn hotels. </p> <div id=\"ad_nat_btf_03\"></div> <p> The deal still needs to get approval from shareholders and regulators, and is expected to be completed in the first half of 2019, the companies said. </p> <p> Buying Costa puts Coke in direct competition with <span>Starbucks</span> <span>(<span class=\\'inlink_chart\\'><a href=\\'https://money.cnn.com/quote/quote.html?symb=SBUX&amp;source=story_quote_link\\' class=\\'inlink\\'>SBUX</a></span>)</span> and several other global coffee brands. </p> <figure class=\"body_img body_img--780\"> <img src=\"https://i2.cdn.turner.com/money/dam/assets/180831082126-costa-coffee-cups-barista-780x439.jpg\" width=\"780\" height=\"439\" alt=\"costa coffee cups barista\" border=\"0\" /> <figcaption class=\"caption\">Costa has nearly 4,000 stores across 32 countries.</figcaption> </figure> <p> </p> <p> Earlier this year, <span>Nestle</span> <span>(<span class=\\'inlink_chart\\'><a href=\\'https://money.cnn.com/quote/quote.html?symb=NSRGF&amp;source=story_quote_link\\' class=\\'inlink\\'>NSRGF</a></span>)</span> and Starbucks agreed a $7.2 billion <a href=\\'https://money.cnn.com/2018/05/07/news/companies/nestle-starbucks-deal-coffee-alliance/index.html\\'>global coffee alliance</a>, which will see Nestle market, sell and distribute Starbucks products outside its stores<strong> </strong>worldwide.<strong> </strong>JAB, the Luxembourg-based holding company that owns brands like Krispy Kreme and Peet\\'s Coffee, <a href=\\'https://money.cnn.com/2018/05/29/investing/pret-a-manger-jab-sale/index.html\\'>bought UK sandwich and coffee chain Pret A Manger</a> in May. </p> <p> Another of JAB\\'s coffee brands, Keurig, <a href=\\'https://money.cnn.com/2018/01/29/investing/dr-pepper-snapple-keurig-green-mountain-merger/index.html\\'>merged its business</a> with one of Coca-Cola\\'s domestic competitors — Dr Pepper Snapple — in January. </p> <p> \"Hot beverages is one of the few segments of the total beverage landscape where Coca-Cola does not have a global brand,\" Coca-Cola CEO James Quincy said Friday. \"Costa gives us access to this market with a strong coffee platform.\" </p> <p> Competition is heating up in other areas, too. Coca-Cola\\'s chief rival <span>Pepsi</span> <span>(<span class=\\'inlink_chart\\'><a href=\\'https://money.cnn.com/quote/quote.html?symb=PEP&amp;source=story_quote_link\\' class=\\'inlink\\'>PEP</a></span>)</span> <a href=\\'https://money.cnn.com/2018/08/20/investing/pepsico-sodastream/\\'>announced earlier this month</a> that it would buy Israeli DIY seltzer company SodaStream for $3.2 billion. </p> <div id=\"storyFooter\"></div> <div class=\"clearfix\"></div> <div class=\"storytimestamp\"> <span class=\"cnnStorySource\"> CNNMoney (New Delhi) </span> <span class=\"cnnDateStamp\">First published August 31, 2018: 3:12 AM ET</span> </div> </div> <!--/storytext--> <div class=\"foot\"> <div id=\"postedin\"></div> <div class=\"clearFloat\"></div> </div> </div> </article> <div class=\"cnnoutbrain outbrain-recommended\" id=\"js-outbrain-recommended\"></div>\\n <div class=\"cnnoutbrain outbrain-relateds\" id=\"js-outbrain-relateds\"></div>\\n <script type=\"text/javascript\">\\n      window._mNHandle = window._mNHandle || {};\\n      window._mNHandle.queue = window._mNHandle.queue || [];\\n      medianet_versionId = \"121199\"; \\n      (function() {\\n          var sct = document.createElement(\"script\"),\\n          sctHl = document.getElementsByTagName(\"script\")[0],\\n          isSSL = \\'https:\\' == document.location.protocol;\\n          sct.type = \"text/javascript\";\\n          sct.src = (isSSL ? \\'https:\\' : \\'http:\\') + \\'//contextual.media.net/dmedianet.js?cid=8CUS8896N\\' + (isSSL ? \\'&https=1\\' : \\'\\')+\\'\\';\\n          sct.async = \"async\";\\n          sctHl.parentNode.insertBefore(sct, sctHl);\\n      })();\\n</script>\\n\\n<div id=\"medianet\" style=\"width: 780px; height: 218px; margin: 20px auto;\">\\n     <div id=\"461374455\">\\n     \\t<script type=\"text/javascript\">\\n   \\t  try {\\n   \\t\\t   window._mNHandle.queue.push(function () {\\n   \\t\\t   \\twindow._mNDetails.loadTag(\"461374455\", \"780x218\", \"461374455\");\\n   \\t\\t  \\t});\\n   \\t\\t  }\\n   \\t  catch (error) {}\\n   \\t</script>\\n     </div>\\n</div>\\n </section> <section class=\"column\"> \\n\\n\\n\\n\\n\\n\\n\\n\\n\\n\\n\\r\\n\\n\\n\\n\\n\\n\\n\\n <div id=\"adsquare\"><div id=\"ad_rect_atf_01\"></div></div>  <h1 class=\"wrapper-title\" style=\" color: #fff; font-size: 18px; line-height: 30px; height:30px; margin: 0; font-weight: normal; padding: 0 15px; background: #73b6db; box-sizing: border-box;\">Personal Finance</h1>\\r\\n<iframe src=\\'https://edge-products.gobankingrates.com/r/6e984c981c225233803913c545ed0cfe?subid=\\' scrolling=\\'no\\' width=\\'300px\\' height=\\'415px\\' frameborder=\\'0\\'></iframe>\\r\\n <div class=\"cnnoutbrain outbrain-hotlist\" id=\"js-outbrain-hotlist\"></div>\\n <div class=\"cnnoutbrain outbrain-module\" id=\"js-outbrain-rightrail-ads-module\"></div>\\n <style>\\n\\tbody.blog .cnnoutbrain {\\n\\t\\tborder: 1px solid #ddd;\\n\\t\\tbackground-color: #fff;\\n\\t\\tmargin-bottom: 5px;\\n\\t\\tpadding: 10px 9px;\\n\\t}\\n</style>\\n<div class=\"cnnoutbrain outbrain-module\" id=\"js-outbrain-module\"></div>\\n <a styl=\"display:block;\" href=\"https://www.cnn.com/email/subscription\"><img src=\"//i2.cdn.turner.com/money/.element/branding/8.0/section/investing/specials/before-the-bell/right-rail-sign-up-with-logo_2X.png\" width=\"100%\"/>\\r\\n\\r\\n</a>\\r\\n\\r\\n\\r\\n<!-- <div id=\"secondAD\"><img src=\"//i2.cdn.turner.com/money/.element/branding/8.0/section/investing/specials/before-the-bell/right-rail-sign-up-with-logo_2X.png\" alt=\"\" usemap=\"#map\" width=\"100%\"/>\\r\\n<map name=\"map\">\\r\\n\\u2002\\u2002\\u2002\\u2002<area shape=\"poly\" coords=\"165, 361, 298, 361, 298, 410, 165, 410\" title=\"\" alt=\"\" href=\"//money.cnn.com/services/privacy\" target=\"_self\"/>\\r\\n\\u2002\\u2002\\u2002\\u2002<area shape=\"poly\" coords=\"3, 1, 3, 410, 165, 410, 165, 360, 298, 360, 298, 0\"\\u2002\\u2002title=\"\" alt=\"\" href=\"http://eepurl.com/cg9xRf\" target=\"_self\" />\\r\\n</map>\\r\\n</div> -->\\r\\n <div id=\"moneySponsors\" class=\"module\">\\n\\t<h3 class=\"boxHeading module-header\">CNNMoney Sponsors</h3>\\n\\t<div class=\"module-body partner-center-module\">\\n\\t\\t<ul class=\"summary-list\">\\n\\t\\t\\t<li>\\n\\t\\t\\t\\t<div id=\"ad_mod_048fa0f34\">\\n\\t\\t\\t\\t\\t<script type=\"text/javascript\" src=\"//i.cdn.turner.com/ads/cnn_money/singles/cnnmoney_sponcenter1.js\"></script>\\n\\t\\t\\t\\t</div>\\n\\t\\t\\t</li>\\n\\t\\t\\t<li>\\n\\t\\t\\t\\t<div id=\"ad_mod_439fb79c2\">\\n\\t\\t\\t\\t\\t<script type=\"text/javascript\" src=\"//i.cdn.turner.com/ads/cnn_money/singles/cnnmoney_sponcenter2.js\"></script>\\n\\t\\t\\t\\t</div>\\n\\t\\t\\t</li>\\n\\t\\t\\t<li>\\n\\t\\t\\t\\t<div id=\"ad_mod_f5abb3fc6\">\\n\\t\\t\\t\\t\\t<script type=\"text/javascript\" src=\"//i.cdn.turner.com/ads/cnn_money/singles/cnnmoney_sponcenter3.js\"></script>\\n\\t\\t\\t\\t</div>\\n\\t\\t\\t</li>\\n\\t\\t\\t<li>\\n\\t\\t\\t\\t<div id=\"ad_mod_a60ca7487\">\\n\\t\\t\\t\\t\\t<script type=\"text/javascript\" src=\"//i.cdn.turner.com/ads/cnn_money/singles/cnnmoney_sponcenter4.js\"></script>\\n\\t\\t\\t\\t</div>\\n\\t\\t\\t</li>\\n\\t\\t\\t<li>\\n\\t\\t\\t\\t<div id=\"ad_mod_a7cebd199\">\\n\\t\\t\\t\\t\\t<script type=\"text/javascript\" src=\"//i.cdn.turner.com/ads/cnn_money/singles/cnnmoney_sponcenter5.js\"></script>\\n\\t\\t\\t\\t</div>\\n\\t\\t\\t</li>\\n\\t\\t</ul>\\n\\t</div>\\n</div>\\n \\n\\r\\n\\n\\n\\n\\n\\n\\n\\n\\n\\n\\n\\r\\n\\n\\n\\n\\n\\n\\r\\n\\t\\t<div class=\"module\">\\n\\t\\t\\t\\t<h3 class=\"module-header\">SmartAsset<div class=\"paid-partner module-heading-right\">Paid Partner</div>\\n</h3>\\n\\t\\t\\t<div class=\"module-body\">\\n\\t\\t\\t\\t<ul class=\"summary-list\">\\n\\t\\t\\t\\t\\t\\t\\t\\t<li><a href=\"https://smartasset.com/checking-account/compare-savings-accounts?utm_source=cnn&utm_medium=cpc&utm_campaign=cnn__savings_art_savingsapy\"  target=\"_blank\" class=\"summary summary-hed\">Savings APY Keeps Climbing - Top Banks Offering 1.86%</a></li>\\n\\t\\t\\t\\t\\t\\t\\t\\t<li><a href=\"https://smartasset.com/checking-account/compare-savings-accounts?utm_source=cnn&utm_medium=cpc&utm_campaign=cnn__savings_art_cd_rates\"  target=\"_blank\" class=\"summary summary-hed\">Certificate of Deposit Rates</a></li>\\n\\t\\t\\t\\t\\t\\t\\t\\t<li><a href=\"https://smartasset.com/retirement/find-a-financial-planner?utm_source=cnn&tm_medium=cpc&utm_campaign=cnn__falc_art_top3\"  target=\"_blank\" class=\"summary summary-hed\">Compare the Top 3 Financial Advisors in Your Neighborhood</a></li>\\n\\t\\t\\t\\t\\t\\t\\t\\t<li><a href=\"https://smartasset.com/checking-account/compare-savings-accounts?utm_source=cnn&utm_medium=cpc&utm_campaign=cnn__savings_art_mma_cd\"  target=\"_blank\" class=\"summary summary-hed last\">Is a Money Market Account or CD Right for You?</a></li>\\n\\t\\t\\t\\t</ul>\\n\\t\\t\\t</div>\\n\\t\\t</div>\\n\\t\\t<div class=\"module\">\\n\\t\\t\\t\\t<a class=\"full-width-header\" target=\"_other\" href=\"http://www.nextadvisor.com/credit_cards/index.php?kw=cnnmoneybp_int_nabrand-121015\">\\n\\t\\t\\t\\t\\t\\n\\t\\t\\t\\t\\t<h3 class=\"module-header\">NextAdvisor <i class=\"icon icon--arrow-right\"></i><div class=\"paid-partner module-heading-right\">Paid Partner</div>\\n</h3>\\n\\t\\t\\t\\t</a>\\n\\t\\t\\t\\t<a target=\"_other\" href=\"http://www.nextadvisor.com/credit_cards/index.php?kw=cnnmoneybp_int_nabrand-121015\">\\n\\t\\t\\t\\t</a>\\n\\t\\t\\t<div class=\"module-body\">\\n\\t\\t\\t\\t<ul class=\"summary-list\">\\n\\t\\t\\t\\t\\t\\t\\t\\t<li><a href=\"https://www.nextadvisor.com/credit_cards/discover_it_review.php?kw=cnnmoneybp_dsk_nearly2020_dis1414rev\"  target=\"_blank\" class=\"summary summary-hed\">An Insane Card Offering 0% Interest Until Nearly 2020</a></li>\\n\\t\\t\\t\\t\\t\\t\\t\\t<li><a href=\"https://www.nextadvisor.com/credit_cards/discover_it_review.php?kw=cnnmoneybp_dsk_ingenious14month_dis1414rev\"  target=\"_blank\" class=\"summary summary-hed\">Transferring Your Balance to a 14-Month 0% APR is Ingenious</a></li>\\n\\t\\t\\t\\t\\t\\t\\t\\t<li><a href=\"https://www.nextadvisor.com/blog/which-balance-transfer-credit-card-is-right-for-me/?kw=cnnmoneybp_dsk_top7baltran_blogbtcomp\"  target=\"_blank\" class=\"summary summary-hed\">The Top 7 Balance Transfer Credit Cards On The Market Today</a></li>\\n\\t\\t\\t\\t\\t\\t\\t\\t<li><a href=\"https://www.nextadvisor.com/credit_cards/wells_fargo_propel_amex_review.php?kw=cnnmoneybp_dsk_outrage300back_propelrev\"  target=\"_blank\" class=\"summary summary-hed last\">Get $300 Back With This Outrageous New Credit Card</a></li>\\n\\t\\t\\t\\t</ul>\\n\\t\\t\\t</div>\\n\\t\\t</div>\\n\\r\\n <div id=\"adsquare\"><div id=\"ad_rect_btf_01\"></div></div> </section> </div> </main> <script language=\"javascript\" type=\"text/javascript\"> var cnnBrandingValue = \"\"; var cnnAuthor = \"Rishi Iyengar\"; var cnnSource = \"CNN\"; var cnnPublishDate = \"2018-08-31\"; var cnnContentType = \"article\"; var cnnOmniture_videoopps = \"1\"; </script> <script language=\"JavaScript\"> if(window.btnDone) btnDone(); </script> <div id=\"csiIframe\"></div> <script>\\r\\n\\tfunction getCookie(check_name) {\\r\\n\\t\\tvar a_all_cookies = document.cookie.split(\\';\\');\\r\\n\\t\\tvar a_temp_cookie = \\'\\';\\r\\n\\t\\tvar ck_name = \\'\\';\\r\\n\\t\\tvar cookie_value = \\'\\';\\r\\n\\t\\tvar b_cookie_found = false;\\r\\n\\t\\tfor ( i = 0; i < a_all_cookies.length; i++) {\\r\\n\\t\\t\\ta_temp_cookie = a_all_cookies[i].split(\\'=\\');\\r\\n\\t\\t\\tck_name = a_temp_cookie[0].replace(/^\\\\s+|\\\\s+$/g, \\'\\');\\r\\n\\t\\t\\tif (ck_name == check_name) {\\r\\n\\t\\t\\t\\tb_cookie_found = true;\\r\\n\\t\\t\\t\\tif (a_temp_cookie.length > 1) {\\r\\n\\t\\t\\t\\t\\tcookie_value = unescape(a_temp_cookie[1].replace(/^\\\\s+|\\\\s+$/g, \\'\\'));\\r\\n\\t\\t\\t\\t}\\r\\n\\t\\t\\t\\treturn cookie_value;\\r\\n\\t\\t\\t\\tbreak;\\r\\n\\t\\t\\t}\\r\\n\\t\\t\\ta_temp_cookie = null;\\r\\n\\t\\t\\tck_name = \\'\\';\\r\\n\\t\\t}\\r\\n\\t\\tif (!b_cookie_found) {\\r\\n\\t\\t\\treturn null;\\r\\n\\t\\t}\\r\\n\\t}\\r\\n\\r\\n\\tfunction setCookie(c_name, value) {\\r\\n\\t\\tvar exdate = new Date();\\r\\n\\t\\texdate.setDate(exdate.getDate() + 365);\\r\\n\\t\\tdocument.cookie = c_name + \"=\" + escape(value) + \";expires=\" + exdate.toUTCString() + \";path=/;domain=cnn.com\";\\r\\n\\t\\treturn;\\r\\n\\t}\\r\\n\\r\\n\\tfunction checkCookie(set_value) {\\r\\n\\t\\tif (getCookie(\\'SelectedEdition\\') == null || getCookie(\\'SelectedEdition\\') == \"\") {\\r\\n\\t\\t\\tsetCookie(\\'SelectedEdition\\', set_value);\\r\\n\\t\\t}\\r\\n\\t\\treturn;\\r\\n\\t}\\r\\n\\r\\n\\ttry {\\r\\n\\t\\tcheckCookie(\\'www\\');\\r\\n\\t} catch(e) {\\r\\n\\t}\\r\\n</script>\\r\\n\\n\\n\\n\\n\\n\\t    <link rel=\\'stylesheet\\' href=\"//money.cnn.com/static/modules/css/footer.cbb36b254f49c7fbf47b.css\">\\n\\n\\t    <div id=\"react_footer\" data-reactroot=\"\"><footer id=\"cnnmoney_footer\" class=\"_4c3b035b\"><div class=\"_05812abd\"><span id=\"cnnmoney_footer_logo\" class=\"f9786d8e\"><a class=\"a2419916\" target=\"_self\" rel=\"noopener\" href=\"//money.cnn.com/\"><img class=\"f234abe9\" src=\"//i.cdn.turner.com/money/.element/cnnm-3.0/img/logo/cnnmoney_blue.svg\"/></a></span></div><div class=\"_7dc7c77c\" id=\"cnnmoney_footer_links\"><a target=\"_blank\" rel=\"noopener\" href=\"//money.cnn.com/services/speakup/speakup.html\">Contact Us</a><a target=\"_blank\" rel=\"noopener\" href=\"//money.cnn.com/services/closed-captioning.html\">Closed Captioning</a><a target=\"_blank\" rel=\"noopener\" href=\"//money.cnn.com/services/sitemap/\">Site Map</a></div><div id=\"cnnmoney_footer_socialshare\"><a href=\"//www.facebook.com/cnnmoney\" target=\"_blank\" rel=\"noopener\" class=\"d108d922\" style=\"margin-right:30px\"><svg width=\"18\" height=\"18\" viewBox=\"0 0 20 20\" xmlns=\"https://www.w3.org/2000/svg\"><path d=\"M1.103809,0 C0.494128755,0 0,0.494128755 0,1.103809 L0,18.896191 C0,19.5057963 0.494128755,20.0000749 1.103809,20.0000749 L10.682668,20.0000749 L10.682668,12.2549776 L8.07624001,12.2549776 L8.07624001,9.23655084 L10.682668,9.23655084 L10.682668,7.01057349 C10.682668,4.42737566 12.260373,3.02074981 14.5648085,3.02074981 C15.6686924,3.02074981 16.6173837,3.10287979 16.893823,3.13959849 L16.893823,5.83924704 L15.2955855,5.8399964 C14.0423539,5.8399964 13.7996358,6.43551372 13.7996358,7.30941872 L13.7996358,9.23655084 L16.7886127,9.23655084 L16.3994695,12.2549776 L13.7996358,12.2549776 L13.7996358,20.0000749 L18.896191,20.0000749 C19.5057963,20.0000749 20,19.5057963 20,18.896191 L20,1.103809 C20,0.494128755 19.5057963,0 18.896191,0 L1.103809,0 Z\" fill=\"#313131\"></path></svg></a><a href=\"//twitter.com/CNNMoney\" target=\"_blank\" rel=\"noopener\" class=\"d108d922\" style=\"margin-right:30px\"><svg width=\"23\" height=\"18\" viewBox=\"0 0 30 24\" version=\"1.1\" xmlns=\"https://www.w3.org/2000/svg\"><path fill=\"#313131\" d=\"M29.536,2.84 C28.449,3.323 27.281,3.649 26.057,3.793 C27.307,3.044 28.266,1.856 28.721,0.442 C27.552,1.135 26.253,1.641 24.873,1.912 C23.769,0.739 22.193,0 20.448,0 C17.105,0 14.389,2.712 14.389,6.06 C14.389,6.534 14.442,6.998 14.547,7.44 C9.511,7.185 5.048,4.773 2.06,1.109 C1.537,2.003 1.237,3.045 1.237,4.154 C1.237,6.257 2.31,8.112 3.935,9.198 C2.941,9.168 2.006,8.895 1.191,8.44 L1.191,8.516 C1.191,11.451 3.28,13.901 6.05,14.457 C5.541,14.595 5.007,14.669 4.454,14.669 C4.065,14.669 3.683,14.631 3.314,14.561 C4.085,16.969 6.321,18.719 8.976,18.769 C6.896,20.392 4.287,21.361 1.451,21.361 C0.962,21.361 0.473,21.335 -1.77635684e-15,21.277 C2.684,22.998 5.867,24 9.292,24 C20.437,24 26.529,14.77 26.529,6.762 C26.529,6.499 26.523,6.237 26.513,5.977 C27.695,5.122 28.725,4.056 29.536,2.84 Z\" id=\"Shape\"></path></svg></a><a href=\"//www.instagram.com/cnnmoney\" target=\"_blank\" rel=\"noopener\" class=\"d108d922\" style=\"margin-right:30px\"><svg width=\"18\" height=\"18\" viewBox=\"0 0 20 20\" xmlns=\"https://www.w3.org/2000/svg\"><defs><polygon points=\"9.99683532 19.9861889 0 19.9861889 0 0.00630516673 9.99683532 0.00630516673 19.9936706 0.00630516673 19.9936706 19.9861889\"></polygon></defs><g stroke=\"none\" stroke-width=\"1\" fill=\"none\" fill-rule=\"evenodd\"><g><g transform=\"translate(0.000000, 0.033350)\"><g><g></g><path d=\"M9.99684524,0.00630516673 C7.28184524,0.00630516673 6.94140873,0.0178051564 5.87517857,0.0664223539 C4.81109127,0.114920586 4.0844246,0.283811813 3.4485119,0.530744349 C2.79113095,0.786044119 2.23363095,1.12763347 1.67787698,1.68300366 C1.12212302,2.2384135 0.780297619,2.79552852 0.524821429,3.45245551 C0.277678571,4.08788942 0.108710317,4.81409394 0.0601388889,5.87740677 C0.0114880952,6.9429403 -1.98412698e-05,7.28314171 -1.98412698e-05,9.99626686 C-1.98412698e-05,12.7093523 0.0114880952,13.0495538 0.0601388889,14.1150873 C0.108710317,15.1784001 0.277678571,15.9046046 0.524821429,16.5400385 C0.780297619,17.1969655 1.12212302,17.7540806 1.67787698,18.3094904 C2.23363095,18.8648606 2.79113095,19.2064499 3.4485119,19.4617497 C4.0844246,19.7086822 4.81109127,19.8775735 5.87517857,19.9260717 C6.94140873,19.9747286 7.28184524,19.9861889 9.99684524,19.9861889 C12.7118452,19.9861889 13.0522421,19.9747286 14.1185119,19.9260717 C15.1825992,19.8775735 15.9092659,19.7086822 16.5451786,19.4617497 C17.2025595,19.2064499 17.7600595,18.8648606 18.3158135,18.3094904 C18.8715675,17.7540806 19.2133929,17.1969655 19.468869,16.5400385 C19.7160119,15.9046046 19.8849802,15.1784001 19.9335516,14.1150873 C19.9822024,13.0495538 19.9936706,12.7093523 19.9936706,9.99626686 C19.9936706,7.28314171 19.9822024,6.9429403 19.9335516,5.87740677 C19.8849802,4.81409394 19.7160119,4.08788942 19.468869,3.45245551 C19.2133929,2.79552852 18.8715675,2.2384135 18.3158135,1.68300366 C17.7600595,1.12763347 17.2025595,0.786044119 16.5451786,0.530744349 C15.9092659,0.283811813 15.1825992,0.114920586 14.1185119,0.0664223539 C13.0522421,0.0178051564 12.7118452,0.00630516673 9.99684524,0.00630516673 M9.99684524,1.80629148 C12.666131,1.80629148 12.9822817,1.81648285 14.0364087,1.86454487 C15.0110913,1.90895862 15.5404167,2.07170331 15.8927183,2.20851353 C16.3593056,2.3897375 16.6923611,2.60621489 17.0421627,2.95581458 C17.3919643,3.30537461 17.608631,3.63816052 17.7899405,4.10446527 C17.9268452,4.45648392 18.0897024,4.98544378 18.1341865,5.95945325 C18.1822817,7.0128523 18.1924405,7.32882443 18.1924405,9.99626686 C18.1924405,12.6636696 18.1822817,12.9796418 18.1341865,14.0330408 C18.0897024,15.0070503 17.9268452,15.5360101 17.7899405,15.8880288 C17.608631,16.3543335 17.3919643,16.6871194 17.0421627,17.0366795 C16.6923611,17.3862792 16.3593056,17.6027566 15.8927183,17.7839805 C15.5404167,17.9207908 15.0110913,18.0835354 14.0364087,18.1279492 C12.9824405,18.1760112 12.6662897,18.1862026 9.99684524,18.1862026 C7.32740079,18.1862026 7.01125,18.1760112 5.95728175,18.1279492 C4.98259921,18.0835354 4.45323413,17.9207908 4.10097222,17.7839805 C3.63438492,17.6027566 3.30132937,17.3862792 2.95152778,17.0366795 C2.60172619,16.6871194 2.38505952,16.3543335 2.20371032,15.8880288 C2.06684524,15.5360101 1.9039881,15.0070503 1.85950397,14.0330408 C1.81140873,12.9796418 1.80125,12.6636696 1.80125,9.99626686 C1.80125,7.32882443 1.81140873,7.0128523 1.85950397,5.95945325 C1.9039881,4.98544378 2.06684524,4.45648392 2.20371032,4.10446527 C2.38505952,3.63816052 2.60172619,3.30537461 2.95152778,2.95581458 C3.30132937,2.60621489 3.63438492,2.3897375 4.10097222,2.20851353 C4.45323413,2.07170331 4.98259921,1.90895862 5.95724206,1.86454487 C7.01140873,1.81648285 7.32755952,1.80629148 9.99684524,1.80629148\" fill=\"#313131\" fill-rule=\"nonzero\"></path></g></g><path d=\"M9.99684524,13.3595776 C8.1564881,13.3595776 6.66454365,11.8687031 6.66454365,10.0296168 C6.66454365,8.1904909 8.1564881,6.69961638 9.99684524,6.69961638 C11.8372024,6.69961638 13.3291071,8.1904909 13.3291071,10.0296168 C13.3291071,11.8687031 11.8372024,13.3595776 9.99684524,13.3595776 M9.99684524,4.89963007 C7.16168651,4.89963007 4.86331349,7.19637627 4.86331349,10.0296168 C4.86331349,12.8628177 7.16168651,15.1595639 9.99684524,15.1595639 C12.832004,15.1595639 15.130377,12.8628177 15.130377,10.0296168 C15.130377,7.19637627 12.832004,4.89963007 9.99684524,4.89963007\" fill=\"#313131\" fill-rule=\"nonzero\"></path><path d=\"M16.5328095,4.69694077 C16.5328095,5.35902293 15.9957063,5.89571555 15.3332063,5.89571555 C14.6706667,5.89571555 14.1335635,5.35902293 14.1335635,4.69694077 C14.1335635,4.03485861 14.6706667,3.49816599 15.3332063,3.49816599 C15.9957063,3.49816599 16.5328095,4.03485861 16.5328095,4.69694077\" fill=\"#313131\" fill-rule=\"nonzero\"></path></g></g></svg></a><a href=\"//www.youtube.com/user/CNNMoney\" target=\"_blank\" rel=\"noopener\" class=\"d108d922\" style=\"margin-right:30px\"><svg width=\"18\" height=\"18\" viewBox=\"0 0 21 16\" version=\"1.1\" xmlns=\"https://www.w3.org/2000/svg\"><path fill=\"#313131\" d=\"M10.29,0 C0.176987999,0 0,0.899345997 0,7.92329997 C0,14.9472539 0.176987999,15.8465999 10.29,15.8465999 C20.4030119,15.8465999 20.5799999,14.9472539 20.5799999,7.92329997 C20.5799999,0.899345997 20.4030119,0 10.29,0 Z M13.5879449,8.26698597 L8.96773497,10.42377 C8.56333797,10.611048 8.23199997,10.401132 8.23199997,9.95454596 L8.23199997,5.89205398 C8.23199997,5.44649698 8.56333797,5.23555198 8.96773497,5.42282998 L13.5879449,7.57961397 C13.9923419,7.76894997 13.9923419,8.07764997 13.5879449,8.26698597 Z\"></path></svg></a><a href=\"//money.cnn.com/services/rss/\" target=\"_blank\" rel=\"noopener\" class=\"d108d922\" style=\"margin-right:\"><svg width=\"18\" height=\"18\" viewBox=\"0 0 16 16\" version=\"1.1\" xmlns=\"https://www.w3.org/2000/svg\">&gt;<path d=\"M5.818142,13.090773 C5.818142,14.697252 4.51556,15.999834 2.909081,15.999834 C1.302602,15.999834 1.99999999e-05,14.697252 1.99999999e-05,13.090773 C1.99999999e-05,11.484295 1.302602,10.181713 2.909081,10.181713 C4.51556,10.181713 5.818142,11.484295 5.818142,13.090773 Z M10.303877,15.999834 C10.243878,15.999834 10.182788,15.992561 10.121697,15.977289 C9.720611,15.87729 9.475522,15.470021 9.575885,15.067844 C9.69952,14.569303 9.773337,13.55695 9.773337,12.968593 C9.773337,9.251904 6.754096,6.228299 3.042862,6.228299 C2.531958,6.228299 1.762511,6.286117 1.279607,6.395934 C0.879611,6.487933 0.474525,6.235208 0.382526,5.830849 C0.290527,5.426489 0.543615,5.023948 0.947247,4.931949 C1.568331,4.790496 2.447231,4.727224 3.042862,4.727224 C7.580996,4.727224 11.272594,8.424276 11.272594,12.968593 C11.272594,13.682404 11.184595,14.811119 11.030415,15.430385 C10.946052,15.771836 10.639874,15.999834 10.303877,15.999834 Z M15.053828,15.999834 C15.010556,15.999834 14.96692,15.996198 14.92292,15.988561 C14.506561,15.916562 14.228018,15.520203 14.300018,15.103843 C14.421107,14.402032 14.470561,13.855856 14.470561,13.219499 C14.470561,6.774112 9.232434,1.53053 2.793592,1.53053 C2.091053,1.53053 1.661967,1.590165 0.906702,1.732709 C0.489615,1.811254 0.091801,1.538166 0.013257,1.122534 C-0.064561,0.707265 0.208164,0.306906 0.622705,0.228725 C1.332879,0.094908 1.903419,0 2.793592,0 C10.075698,0 16,5.93012 16,13.219499 C16,13.939492 15.941819,14.581667 15.806184,15.364932 C15.742184,15.736928 15.418915,15.999834 15.053828,15.999834 Z\" fill=\"#313131\"></path></svg></a></div><p class=\"fe31535c\">Most stock quote data provided by BATS. Market indices are shown in real time, except for the DJIA, which is delayed by two minutes. All times are ET. Disclaimer. Morningstar: © <!-- -->2018<!-- --> Morningstar, Inc. All Rights Reserved. Factset: FactSet Research Systems Inc.<!-- -->2018<!-- -->. All rights reserved. Chicago Mercantile Association: Certain market data is the property of Chicago Mercantile Exchange Inc. and its licensors. All rights reserved. Dow Jones: The Dow Jones branded indices are proprietary to and are calculated, distributed and marketed by DJI Opco, a subsidiary of S&amp;P Dow Jones Indices LLC and have been licensed for use to S&amp;P Opco, LLC and CNN. Standard &amp; Poor&#x27;s and S&amp;P are registered trademarks of Standard &amp; Poor&#x27;s Financial Services LLC and Dow Jones is a registered trademark of Dow Jones Trademark Holdings LLC. All content of the Dow Jones branded indices © S&amp;P Dow Jones Indices LLC<!-- --> <!-- -->2018<!-- --> and/or its affiliates.</p><p class=\"fe31535c\" id=\"cnnmoney_footer_terms\">© <!-- -->2018<!-- --> Cable News Network. A WarnerMedia Company. All Rights Reserved.<a target=\"_blank\" rel=\"noopener noreferrer\" href=\"//www.cnn.com/terms/\">Terms</a> <!-- -->under which this service is provided to you.<a target=\"_blank\" rel=\"noopener noreferrer\" href=\"//www.cnn.com/privacy/\"> <!-- -->Privacy Policy.</a> <a id=\"trusteLink\"></a></p></footer><script>window.__ENVIRONMENTS__ = { configEnv: \\'production\\', deviceType: \\'undefined\\'}</script></div>\\n\\t    \\n\\t    <script crossorigin defer src=\"//money.cnn.com/static/modules/footer.afc54036a8ce437947f9.js\" /></script>\\n\\n    <style>\\n        /* Footer  */\\n        #react_footer {\\n            min-width: 1140px;\\n        }\\n        \\n        .responsive #react_footer {\\n            min-width: unset;\\n        }\\n\\n        #react_footer footer div:nth-child(2)::before,\\n        #react_footer footer div:nth-child(2)::after {\\n            background: #eee;\\n        }\\n\\n        .responsive #react_footer footer div:nth-child(2)::before,\\n        .responsive #react_footer footer div:nth-child(2)::after {\\n            background: #979797;\\n        }\\n\\n        #cnnFooter  {\\n            background: #fff;\\n        }\\n        #cnnFooter #react_footer a {\\n            color: #313131;\\n        }\\n        #cnnFooter #react_footer a:hover {\\n            text-decoration: none;\\n        }\\n\\n        @media screen and (min-width: 641px) {\\n            .responsive #react_footer footer div:nth-child(2)::before,\\n            .responsive #react_footer footer div:nth-child(2)::after {\\n                background: #eee;\\n            }\\n        }\\n    </style>\\n\\r\\n<script>\\nif (window.location.hostname === \"ref2.money.cnn.com\") {\\n    var cnnOmniture_prodenv = false;\\n}\\nelse if (window.location.hostname === \"dev.money.cnn.com\") {\\n    var cnnOmniture_prodenv = false;\\n}\\nelse if (window.location.hostname === \"train.money.cnn.com\") {\\n    var cnnOmniture_prodenv = false;\\n}\\nelse if (window.location.hostname === \"stage.money.cnn.com\") {\\n    var cnnOmniture_prodenv = false;\\n}\\nelse { \\n    var cnnOmniture_prodenv = true;\\n}\\n</script>\\n\\n\\n<script language=\"JavaScript\" src=\"//z.cdn.turner.com/analytics/mon/jsmd-prod.min.js\"></script>\\n\\n\\n<script language=\"JavaScript\">\\n<!--\\nif (window.location.pathname.indexOf(\".element\") == -1 && window.location.href.indexOf(\"?fb_xd_fragment#?=&\") == -1 && window.location.href.indexOf(\"search/index.html?\") == -1) {\\n\\tvar jsmd=_jsmd.init(); \\n\\tjsmd.send(); \\n}\\n//--></script>\\n\\r\\n<script type=\"text/javascript\" src=\"//z.cdn.turner.com/money/.element/script/6.0/newsbeat/newsbeat.js\"></script>\\n\\t\\n<!-- STILL NEEDED? \\n<script language=\"JavaScript\">\\n\\tvar R = new String(document.referrer);\\n\\tvar serveAd=1;\\n\\tif(R.length > 0)\\n\\t{\\n\\t\\tif (R.indexOf(\"yahoo.com\") >= 0)\\n\\t\\t\\tserveAd=0;\\n\\t}\\n\\tif(serveAd)\\n\\t{\\n\\t\\t/* dynamic logic */\\n\\t\\tdocument.write(\\'<scr\\'+\\'ipt src=\"//content.dl-rms.com/rms/mother/8101/nodetag.js\"></scr\\'+\\'ipt>\\');\\n\\t\\t/* ADSPACE: ros/popunders/bot.1x1 */\\n\\t\\tcnnad_createAd(\"229469\",\"//ads.cnn.com/html.ng/site=cnn_money&cnn_money_position=1x1_bot&params.styles=fs\",\"1\",\"1\");\\n\\t\\ttry { selectSurvey(); }\\tcatch(e){}\\n\\t}\\n</script>-->\\n\\t\\n<!-- Begin: www.iperceptions.com - biz.trackingcode -->\\n<script src=\"//ips-invite.iperceptions.com/webValidator.aspx?sdfc=8903e7fe-104983-4d96497c-d068-4528-a4f9-0dbb51a45963&lID=1&loc=STUDY&cD=90&rF=False&iType=1&domainname=0\" type=\"text/javascript\" defer=\"defer\"></script>\\n<!-- End: www.iperceptions.com -->\\n\\n\\n\\r\\n<!-- ClickTale Bottom part -->\\n<script type=\\'text/javascript\\'>\\n(function(win,doc){\\n\\nvar scriptElement, scrSrc;\\n\\nif (typeof (win.ClickTaleCreateDOMElement) != \"function\")\\n{\\n\\twin.ClickTaleCreateDOMElement = function(tagName)\\n\\t{\\n\\t\\tif (doc.createElementNS)\\n\\t\\t{\\n\\t\\t\\treturn doc.createElementNS(\\'http://www.w3.org/1999/xhtml\\', tagName);\\n\\t\\t}\\n\\t\\treturn doc.createElement(tagName);\\n\\t}\\n}\\n\\nwin.WRInitTime=(new Date()).getTime();\\n\\nscriptElement = ClickTaleCreateDOMElement(\\'script\\');\\nscriptElement.type = \"text/javascript\";\\n\\nscrSrc = doc.location.protocol==\\'https:\\'? \\'https://cdnssl.clicktale.net/\\':\\t\\'http://cdn.clicktale.net/\\';\\n\\nscrSrc += \\'www04/ptc/1db4a0f2-17e4-45f8-b5fd-5fd78f545b59.js\\';\\n\\nscriptElement.src = scrSrc;\\n\\ndoc.getElementsByTagName(\\'body\\')[0].appendChild(scriptElement);\\n})(window,document);\\n</script>\\n<!-- ClickTale end of Bottom part -->\\n\\r\\n<!--  Quantcast Tag -->\\r\\n<script>\\r\\n var ezt = ezt ||[];\\r\\n\\r\\n (function(){\\r\\n   var elem = document.createElement(\\'script\\');\\r\\n   elem.src = (document.location.protocol == \"https:\" ? \"https://secure\" : \"http://pixel\") + \".quantserve.com/aquant.js?a=p-D1yc5zQgjmqr5\";\\r\\n   elem.async = true;\\r\\n   elem.type = \"text/javascript\";\\r\\n   var scpt = document.getElementsByTagName(\\'script\\')[0];\\r\\n   scpt.parentNode.insertBefore(elem,scpt);\\r\\n }());\\r\\n\\r\\n\\r\\n ezt.push({qacct: \\'p-D1yc5zQgjmqr5\\',\\r\\n\\t   uid: \\'USER-ID-HERE\\' \\r\\n           });\\r\\n</script>\\r\\n<noscript>\\r\\n  <img src=\"//pixel.quantserve.com/pixel/p-D1yc5zQgjmqr5.gif\" style=\"display: none;\" border=\"0\" height=\"1\" width=\"1\" alt=\"Quantcast\"/>\\r\\n</noscript>\\r\\n<!-- End Quantcast Tag -->\\r\\n\\r\\n <img src=\"//i.cdn.turner.com/money/video/bvp/images/1.gif\" alt=\"\" width=\"0\" height=\"0\" border=\"0\" vspace=\"0\" hspace=\"0\" name=\"OmnitureTrack\" id=\"OmnitureTrack\" align=\"right\"> <img src=\"//i.cdn.turner.com/money/images/1.gif\" alt=\"\" width=\"0\" height=\"0\" border=\"0\" vspace=\"0\" hspace=\"0\" name=\"cookieCrumb\" id=\"cookieCrumb\" align=\"right\"> <script type=\"text/javascript\"> var urlPre=\"//markets.money.cnn.com/\"; var cnnDomain=\"//money.cnn.com/\"; var cookieDomain=\"cnn.com\"; var tzOffset= -240; </script> <script type=\"text/javascript\" src=\"https://z.cdn.turner.com/money/tmpl_asset/static/script/2213/js/cnnm-ocean.story-min.js\"></script> <script src=\"//registry.api.cnn.io/bundles/fave/latest-2.x/js\"></script> <script type=\"text/javascript\" src=\"https://ws.sharethis.com/button/buttons.js\"></script>\\r\\n<script type=\"text/javascript\">stLight.options({doNotHash:true});</script>\\r\\n <script type=\\'text/javascript\\' src=\\'//i.cdn.turner.com/xslo/aspen/js/1.3/aspenweb_1.3.0.min.js\\'></script> <!--// Nativo/Post Release //--> <!--// Nativo/Post Release \\n<script type=\"text/javascript\" src=\"//a.postrelease.com/serve/load.js?async=true\" async=\"async\"></script>\\n//--> <div id=\"ad_oop_skin_01\"></div> </body> </html>'"
            ]
          },
          "metadata": {
            "tags": []
          },
          "execution_count": 22
        }
      ]
    },
    {
      "metadata": {
        "id": "7MJagcgBFaLI",
        "colab_type": "code",
        "colab": {
          "base_uri": "https://localhost:8080/",
          "height": 55
        },
        "outputId": "59aad873-1300-4340-858d-ade159b1703f"
      },
      "cell_type": "code",
      "source": [
        "article.parse()\n",
        "print(article.authors)\n",
        "print(article.publish_date)"
      ],
      "execution_count": 23,
      "outputs": [
        {
          "output_type": "stream",
          "text": [
            "['Rishi Iyengar']\n",
            "2018-08-31 00:00:00\n"
          ],
          "name": "stdout"
        }
      ]
    },
    {
      "metadata": {
        "id": "I0uVAU_JF4hc",
        "colab_type": "code",
        "colab": {
          "base_uri": "https://localhost:8080/",
          "height": 56
        },
        "outputId": "8d7c399a-36c1-4eb5-d5f7-0e0412c73ece"
      },
      "cell_type": "code",
      "source": [
        "text = article.text\n",
        "text"
      ],
      "execution_count": 24,
      "outputs": [
        {
          "output_type": "execute_result",
          "data": {
            "text/plain": [
              "'Coca-Cola is getting a $5 billion shot of caffeine.\\n\\nThe company has agreed to buy coffee chain Costa Coffee from UK drinks and hotels group Whitbread for £3.9 billion ($5.1 billion).\\n\\nCosta has nearly 4,000 stores across 32 countries. It will give Coca-Cola (KO) \"a strong coffee platform across parts of Europe, Asia Pacific, the Middle East and Africa, with the opportunity for additional expansion,\" Coca-Cola said in a statement.\\n\\nBesides its thousands of retail stores, Costa Coffee also has smaller on-the-go outlets called Costa Express, a roastery and for-home coffee products.\\n\\nWhitbread, which acquired Costa in 1995, said it will use proceeds from the sale of the coffee business to expand its other big brand, Premier Inn hotels.\\n\\nThe deal still needs to get approval from shareholders and regulators, and is expected to be completed in the first half of 2019, the companies said.\\n\\nBuying Costa puts Coke in direct competition with Starbucks (SBUX) and several other global coffee brands.\\n\\nEarlier this year, Nestle (NSRGF) and Starbucks agreed a $7.2 billion global coffee alliance, which will see Nestle market, sell and distribute Starbucks products outside its stores worldwide. JAB, the Luxembourg-based holding company that owns brands like Krispy Kreme and Peet\\'s Coffee, bought UK sandwich and coffee chain Pret A Manger in May.\\n\\nAnother of JAB\\'s coffee brands, Keurig, merged its business with one of Coca-Cola\\'s domestic competitors — Dr Pepper Snapple — in January.\\n\\n\"Hot beverages is one of the few segments of the total beverage landscape where Coca-Cola does not have a global brand,\" Coca-Cola CEO James Quincy said Friday. \"Costa gives us access to this market with a strong coffee platform.\"\\n\\nCompetition is heating up in other areas, too. Coca-Cola\\'s chief rival Pepsi (PEP) announced earlier this month that it would buy Israeli DIY seltzer company SodaStream for $3.2 billion.'"
            ]
          },
          "metadata": {
            "tags": []
          },
          "execution_count": 24
        }
      ]
    },
    {
      "metadata": {
        "id": "7WTKUPi3HSMv",
        "colab_type": "code",
        "colab": {
          "base_uri": "https://localhost:8080/",
          "height": 36
        },
        "outputId": "037f4643-714b-4ad0-e27c-d0993c869b48"
      },
      "cell_type": "code",
      "source": [
        "article.top_image"
      ],
      "execution_count": 25,
      "outputs": [
        {
          "output_type": "execute_result",
          "data": {
            "text/plain": [
              "'https://i2.cdn.turner.com/money/dam/assets/180831082126-costa-coffee-cups-barista-780x439.jpg'"
            ]
          },
          "metadata": {
            "tags": []
          },
          "execution_count": 25
        }
      ]
    },
    {
      "metadata": {
        "id": "0kyjXStgHfPl",
        "colab_type": "code",
        "colab": {
          "base_uri": "https://localhost:8080/",
          "height": 262
        },
        "outputId": "f71c051e-d851-4b2b-ab56-983e161e7326"
      },
      "cell_type": "code",
      "source": [
        "# NLP!!!\n",
        "import nltk\n",
        "nltk.download('punkt')\n",
        "\n",
        "article.nlp()\n",
        "\n",
        "article.keywords"
      ],
      "execution_count": 26,
      "outputs": [
        {
          "output_type": "stream",
          "text": [
            "[nltk_data] Downloading package punkt to /root/nltk_data...\n",
            "[nltk_data]   Unzipping tokenizers/punkt.zip.\n"
          ],
          "name": "stdout"
        },
        {
          "output_type": "execute_result",
          "data": {
            "text/plain": [
              "['buying',\n",
              " 'company',\n",
              " 'coffee',\n",
              " 'starbucks',\n",
              " 'global',\n",
              " 'strong',\n",
              " 'stores',\n",
              " 'uk',\n",
              " 'cocacola',\n",
              " 'billion',\n",
              " 'costa']"
            ]
          },
          "metadata": {
            "tags": []
          },
          "execution_count": 26
        }
      ]
    },
    {
      "metadata": {
        "id": "e71-qIL-HvIz",
        "colab_type": "code",
        "colab": {
          "base_uri": "https://localhost:8080/",
          "height": 56
        },
        "outputId": "c716a7f6-0009-4985-d017-8752afa3d209"
      },
      "cell_type": "code",
      "source": [
        "article.summary"
      ],
      "execution_count": 27,
      "outputs": [
        {
          "output_type": "execute_result",
          "data": {
            "text/plain": [
              "'The company has agreed to buy coffee chain Costa Coffee from UK drinks and hotels group Whitbread for £3.9 billion ($5.1 billion).\\nIt will give Coca-Cola (KO) \"a strong coffee platform across parts of Europe, Asia Pacific, the Middle East and Africa, with the opportunity for additional expansion,\" Coca-Cola said in a statement.\\nBesides its thousands of retail stores, Costa Coffee also has smaller on-the-go outlets called Costa Express, a roastery and for-home coffee products.\\nBuying Costa puts Coke in direct competition with Starbucks (SBUX) and several other global coffee brands.\\n\"Costa gives us access to this market with a strong coffee platform.\"'"
            ]
          },
          "metadata": {
            "tags": []
          },
          "execution_count": 27
        }
      ]
    },
    {
      "metadata": {
        "id": "mIY0wSkoJuzn",
        "colab_type": "text"
      },
      "cell_type": "markdown",
      "source": [
        "## Operator overloading\n",
        "Using operators for multiple actions depending on context (ex. '+' for adding integers *or* concatenating strings)."
      ]
    },
    {
      "metadata": {
        "id": "h_jxgAX4JxIZ",
        "colab_type": "code",
        "colab": {
          "base_uri": "https://localhost:8080/",
          "height": 252
        },
        "outputId": "fb8fdd7f-2a0a-4515-f6e5-86f0463aca89"
      },
      "cell_type": "code",
      "source": [
        "class Thing:\n",
        "    def __init__(self, value):\n",
        "        self.__value = value\n",
        "    def __gt__(self, other):\n",
        "        return self.__value > other.__value\n",
        "    def __lt__(self, other):\n",
        "        return self.__value < other.__value\n",
        "    \n",
        "something = Thing(100)\n",
        "nothing = Thing(0)\n",
        "\n",
        "# True\n",
        "print(something > nothing)\n",
        "\n",
        "# False\n",
        "print(something < nothing)\n",
        "\n",
        "# Error\n",
        "print(something + nothing)"
      ],
      "execution_count": 28,
      "outputs": [
        {
          "output_type": "stream",
          "text": [
            "True\n",
            "False\n"
          ],
          "name": "stdout"
        },
        {
          "output_type": "error",
          "ename": "TypeError",
          "evalue": "ignored",
          "traceback": [
            "\u001b[0;31m---------------------------------------------------------------------------\u001b[0m",
            "\u001b[0;31mTypeError\u001b[0m                                 Traceback (most recent call last)",
            "\u001b[0;32m<ipython-input-28-3d7abb9b4cfa>\u001b[0m in \u001b[0;36m<module>\u001b[0;34m()\u001b[0m\n\u001b[1;32m     17\u001b[0m \u001b[0;34m\u001b[0m\u001b[0m\n\u001b[1;32m     18\u001b[0m \u001b[0;31m# Error\u001b[0m\u001b[0;34m\u001b[0m\u001b[0;34m\u001b[0m\u001b[0m\n\u001b[0;32m---> 19\u001b[0;31m \u001b[0mprint\u001b[0m\u001b[0;34m(\u001b[0m\u001b[0msomething\u001b[0m \u001b[0;34m+\u001b[0m \u001b[0mnothing\u001b[0m\u001b[0;34m)\u001b[0m\u001b[0;34m\u001b[0m\u001b[0m\n\u001b[0m",
            "\u001b[0;31mTypeError\u001b[0m: unsupported operand type(s) for +: 'Thing' and 'Thing'"
          ]
        }
      ]
    },
    {
      "metadata": {
        "id": "S3LOEnTgKqtJ",
        "colab_type": "text"
      },
      "cell_type": "markdown",
      "source": [
        "## pprint\n",
        "Kinder formatting for long print outputs."
      ]
    },
    {
      "metadata": {
        "id": "tGfqJXxzKwQo",
        "colab_type": "code",
        "colab": {
          "base_uri": "https://localhost:8080/",
          "height": 225
        },
        "outputId": "80e931aa-254f-4694-9f46-d549ab7a85fd"
      },
      "cell_type": "code",
      "source": [
        "import requests\n",
        "import pprint\n",
        "\n",
        "pprint.pprint(article.summary)"
      ],
      "execution_count": 29,
      "outputs": [
        {
          "output_type": "stream",
          "text": [
            "('The company has agreed to buy coffee chain Costa Coffee from UK drinks and '\n",
            " 'hotels group Whitbread for £3.9 billion ($5.1 billion).\\n'\n",
            " 'It will give Coca-Cola (KO) \"a strong coffee platform across parts of '\n",
            " 'Europe, Asia Pacific, the Middle East and Africa, with the opportunity for '\n",
            " 'additional expansion,\" Coca-Cola said in a statement.\\n'\n",
            " 'Besides its thousands of retail stores, Costa Coffee also has smaller '\n",
            " 'on-the-go outlets called Costa Express, a roastery and for-home coffee '\n",
            " 'products.\\n'\n",
            " 'Buying Costa puts Coke in direct competition with Starbucks (SBUX) and '\n",
            " 'several other global coffee brands.\\n'\n",
            " '\"Costa gives us access to this market with a strong coffee platform.\"')\n"
          ],
          "name": "stdout"
        }
      ]
    },
    {
      "metadata": {
        "id": "7rPLhu2LLA5s",
        "colab_type": "text"
      },
      "cell_type": "markdown",
      "source": [
        "## Queue\n",
        "https://www.tutorialspoint.com/python3/python_multithreading.htm"
      ]
    },
    {
      "metadata": {
        "id": "GRF_yizyb803",
        "colab_type": "text"
      },
      "cell_type": "markdown",
      "source": [
        "## __repr__\n",
        "When defining a class or an object in Python, it is useful to provide an ‘official’ way of representing that object as a string. For example:"
      ]
    },
    {
      "metadata": {
        "id": "P-XeCzGMeDHP",
        "colab_type": "code",
        "colab": {
          "base_uri": "https://localhost:8080/",
          "height": 195
        },
        "outputId": "12385364-e750-4cbb-ae7a-8f027d0698a0"
      },
      "cell_type": "code",
      "source": [
        "file = open('file.txt', 'r')\n",
        "print(file)"
      ],
      "execution_count": 31,
      "outputs": [
        {
          "output_type": "error",
          "ename": "FileNotFoundError",
          "evalue": "ignored",
          "traceback": [
            "\u001b[0;31m---------------------------------------------------------------------------\u001b[0m",
            "\u001b[0;31mFileNotFoundError\u001b[0m                         Traceback (most recent call last)",
            "\u001b[0;32m<ipython-input-31-00fc42545411>\u001b[0m in \u001b[0;36m<module>\u001b[0;34m()\u001b[0m\n\u001b[0;32m----> 1\u001b[0;31m \u001b[0mfile\u001b[0m \u001b[0;34m=\u001b[0m \u001b[0mopen\u001b[0m\u001b[0;34m(\u001b[0m\u001b[0;34m'file.txt'\u001b[0m\u001b[0;34m,\u001b[0m \u001b[0;34m'r'\u001b[0m\u001b[0;34m)\u001b[0m\u001b[0;34m\u001b[0m\u001b[0m\n\u001b[0m\u001b[1;32m      2\u001b[0m \u001b[0mprint\u001b[0m\u001b[0;34m(\u001b[0m\u001b[0mfile\u001b[0m\u001b[0;34m)\u001b[0m\u001b[0;34m\u001b[0m\u001b[0m\n",
            "\u001b[0;31mFileNotFoundError\u001b[0m: [Errno 2] No such file or directory: 'file.txt'"
          ]
        }
      ]
    },
    {
      "metadata": {
        "id": "aYfhTu22eXL8",
        "colab_type": "text"
      },
      "cell_type": "markdown",
      "source": [
        "This makes debugging code a lot easier. Add it to your class definitions as below:"
      ]
    },
    {
      "metadata": {
        "id": "wC5Qb2LReYIH",
        "colab_type": "code",
        "colab": {
          "base_uri": "https://localhost:8080/",
          "height": 36
        },
        "outputId": "dd07924b-8dce-4c0d-fa4a-ff511e5f0252"
      },
      "cell_type": "code",
      "source": [
        "class someClass:\n",
        "    def __repr__(self):\n",
        "        return \"<some description here>\"\n",
        "\n",
        "someInstance = someClass()\n",
        "\n",
        "# prints <some description here>\n",
        "print(someInstance)"
      ],
      "execution_count": 32,
      "outputs": [
        {
          "output_type": "stream",
          "text": [
            "<some description here>\n"
          ],
          "name": "stdout"
        }
      ]
    },
    {
      "metadata": {
        "id": "FWXdmwdVedOj",
        "colab_type": "text"
      },
      "cell_type": "markdown",
      "source": [
        "## sh\n",
        "Python makes a great scripting language. Sometimes using the standard os and subprocess libraries can be a bit of a headache.\n",
        "\n",
        "The [sh library](http://amoffat.github.io/sh/) provides a neat alternative.\n",
        "\n",
        "It lets you call any program as if it were an ordinary function — useful for automating workflows and tasks, all from within Python."
      ]
    },
    {
      "metadata": {
        "id": "Orsa6NRdeqI2",
        "colab_type": "code",
        "colab": {}
      },
      "cell_type": "code",
      "source": [
        "from sh import *\n",
        "\n",
        "sh.pwd()\n",
        "sh.mkdir('new_folder')\n",
        "sh.touch('new_file.txt')\n",
        "sh.whoami()\n",
        "sh.echo('This is great!')"
      ],
      "execution_count": 0,
      "outputs": []
    },
    {
      "metadata": {
        "id": "F3l9V87_exyn",
        "colab_type": "text"
      },
      "cell_type": "markdown",
      "source": [
        "## Type hints\n",
        "Python is a dynamically-typed language. You don’t need to specify datatypes when you define variables, functions, classes etc.\n",
        "\n",
        "This allows for rapid development times. However, there are few things more annoying than a runtime error caused by a simple typing issue.\n",
        "\n",
        "Since Python 3.5, you have the option to provide type hints when defining functions."
      ]
    },
    {
      "metadata": {
        "id": "-QFB56NXe6Jm",
        "colab_type": "code",
        "colab": {
          "base_uri": "https://localhost:8080/",
          "height": 195
        },
        "outputId": "83f6c108-0d28-471e-cc19-5a9ab54d947c"
      },
      "cell_type": "code",
      "source": [
        "def addTwo(x : Int) -> Int:\n",
        "    return x + 2"
      ],
      "execution_count": 33,
      "outputs": [
        {
          "output_type": "error",
          "ename": "NameError",
          "evalue": "ignored",
          "traceback": [
            "\u001b[0;31m---------------------------------------------------------------------------\u001b[0m",
            "\u001b[0;31mNameError\u001b[0m                                 Traceback (most recent call last)",
            "\u001b[0;32m<ipython-input-33-0687c492ecec>\u001b[0m in \u001b[0;36m<module>\u001b[0;34m()\u001b[0m\n\u001b[0;32m----> 1\u001b[0;31m \u001b[0;32mdef\u001b[0m \u001b[0maddTwo\u001b[0m\u001b[0;34m(\u001b[0m\u001b[0mx\u001b[0m \u001b[0;34m:\u001b[0m \u001b[0mInt\u001b[0m\u001b[0;34m)\u001b[0m \u001b[0;34m->\u001b[0m \u001b[0mInt\u001b[0m\u001b[0;34m:\u001b[0m\u001b[0;34m\u001b[0m\u001b[0m\n\u001b[0m\u001b[1;32m      2\u001b[0m     \u001b[0;32mreturn\u001b[0m \u001b[0mx\u001b[0m \u001b[0;34m+\u001b[0m \u001b[0;36m2\u001b[0m\u001b[0;34m\u001b[0m\u001b[0m\n",
            "\u001b[0;31mNameError\u001b[0m: name 'Int' is not defined"
          ]
        }
      ]
    },
    {
      "metadata": {
        "id": "BRbnrlfnfB_c",
        "colab_type": "text"
      },
      "cell_type": "markdown",
      "source": [
        "You can also define type aliases:"
      ]
    },
    {
      "metadata": {
        "id": "kOUhw1_gfEy9",
        "colab_type": "code",
        "colab": {}
      },
      "cell_type": "code",
      "source": [
        "from typing import List\n",
        "\n",
        "Vector = List[float]\n",
        "Matrix = List[Vector]\n",
        "\n",
        "def addMatrix(a : Matrix, b : Matrix) -> Matrix:\n",
        "  result = []\n",
        "  for i,row in enumerate(a):\n",
        "    result_row =[]\n",
        "    for j, col in enumerate(row):\n",
        "      result_row += [a[i][j] + b[i][j]]\n",
        "    result += [result_row]\n",
        "  return result\n",
        "\n",
        "x = [[1.0, 0.0], [0.0, 1.0]]\n",
        "y = [[2.0, 1.0], [0.0, -2.0]]\n",
        "\n",
        "z = addMatrix(x, y)"
      ],
      "execution_count": 0,
      "outputs": []
    },
    {
      "metadata": {
        "id": "PF1OirzGfMM6",
        "colab_type": "text"
      },
      "cell_type": "markdown",
      "source": [
        "Although not compulsory, type annotations can make your code easier to understand.\n",
        "\n",
        "They also allow you to use type checking tools to catch those stray TypeErrors before runtime. Probably worthwhile if you are working on large, complex projects!"
      ]
    },
    {
      "metadata": {
        "id": "6TVKHdmAfRl9",
        "colab_type": "text"
      },
      "cell_type": "markdown",
      "source": [
        "## uuid\n",
        "A quick and easy way to generate Universally Unique IDs (or ‘UUIDs’) is through the Python Standard Library’s uuid module."
      ]
    },
    {
      "metadata": {
        "id": "f25M_J53faa_",
        "colab_type": "code",
        "colab": {}
      },
      "cell_type": "code",
      "source": [
        "import uuid\n",
        "\n",
        "user_id = uuid.uuid4()\n",
        "print(user_id)"
      ],
      "execution_count": 0,
      "outputs": []
    },
    {
      "metadata": {
        "id": "gS2sZ8Qtfh6N",
        "colab_type": "text"
      },
      "cell_type": "markdown",
      "source": [
        "This creates a randomized 128-bit number that will almost certainly be unique.\n",
        "\n",
        "In fact, there are over 2¹²² possible UUIDs that can be generated. That’s over five undecillion (or 5,000,000,000,000,000,000,000,000,000,000,000,000).\n",
        "\n",
        "The probability of finding duplicates in a given set is extremely low. Even with a trillion UUIDs, the probability of a duplicate existing is much, much less than one-in-a-billion.\n",
        "\n",
        "Pretty good for two lines of code."
      ]
    },
    {
      "metadata": {
        "id": "PvoNLqYiflYD",
        "colab_type": "text"
      },
      "cell_type": "markdown",
      "source": [
        "## Virtual environments\n",
        "This is probably my favorite Python thing of all.\n",
        "\n",
        "Chances are you are working on multiple Python projects at any one time. Unfortunately, sometimes two projects will rely on different versions of the same dependency. Which do you install on your system?\n",
        "\n",
        "Luckily, Python’s support for virtual environments lets you have the best of both worlds. From the command line:"
      ]
    },
    {
      "metadata": {
        "id": "2EOQFtC6f_lc",
        "colab_type": "code",
        "colab": {}
      },
      "cell_type": "code",
      "source": [
        "python -m venv my-project\n",
        "source my-project/bin/activate\n",
        "pip install all-the-modules"
      ],
      "execution_count": 0,
      "outputs": []
    },
    {
      "metadata": {
        "id": "b1qXjD19gD0S",
        "colab_type": "text"
      },
      "cell_type": "markdown",
      "source": [
        "Now you can have standalone versions and installations of Python running on the same machine. Sorted!"
      ]
    },
    {
      "metadata": {
        "id": "QQ_cqz1WgHT-",
        "colab_type": "text"
      },
      "cell_type": "markdown",
      "source": [
        "## wikipedia\n",
        "Wikipedia has a great API that allows users programmatic access to an unrivalled body of completely free knowledge and information.\n",
        "\n",
        "The [wikipedia module](https://wikipedia.readthedocs.io/en/latest/quickstart.html) makes accessing this API almost embarrassingly convenient."
      ]
    },
    {
      "metadata": {
        "id": "lLQX-o-7gU5T",
        "colab_type": "code",
        "colab": {
          "base_uri": "https://localhost:8080/",
          "height": 2018
        },
        "outputId": "2fb23c5b-dbc2-4750-e27e-718c84f72ae0"
      },
      "cell_type": "code",
      "source": [
        "!pip3 install wikipedia\n",
        "import wikipedia\n",
        "\n",
        "result = wikipedia.page('freeCodeCamp')\n",
        "print(result.summary)\n",
        "for link in result.links:\n",
        "    print(link)"
      ],
      "execution_count": 36,
      "outputs": [
        {
          "output_type": "stream",
          "text": [
            "Collecting wikipedia\n",
            "  Downloading https://files.pythonhosted.org/packages/67/35/25e68fbc99e672127cc6fbb14b8ec1ba3dfef035bf1e4c90f78f24a80b7d/wikipedia-1.4.0.tar.gz\n",
            "Requirement already satisfied: beautifulsoup4 in /usr/local/lib/python3.6/dist-packages (from wikipedia) (4.6.3)\n",
            "Requirement already satisfied: requests<3.0.0,>=2.0.0 in /usr/local/lib/python3.6/dist-packages (from wikipedia) (2.18.4)\n",
            "Requirement already satisfied: idna<2.7,>=2.5 in /usr/local/lib/python3.6/dist-packages (from requests<3.0.0,>=2.0.0->wikipedia) (2.6)\n",
            "Requirement already satisfied: chardet<3.1.0,>=3.0.2 in /usr/local/lib/python3.6/dist-packages (from requests<3.0.0,>=2.0.0->wikipedia) (3.0.4)\n",
            "Requirement already satisfied: certifi>=2017.4.17 in /usr/local/lib/python3.6/dist-packages (from requests<3.0.0,>=2.0.0->wikipedia) (2018.8.24)\n",
            "Requirement already satisfied: urllib3<1.23,>=1.21.1 in /usr/local/lib/python3.6/dist-packages (from requests<3.0.0,>=2.0.0->wikipedia) (1.22)\n",
            "Building wheels for collected packages: wikipedia\n",
            "  Running setup.py bdist_wheel for wikipedia ... \u001b[?25l-\b \bdone\n",
            "\u001b[?25h  Stored in directory: /root/.cache/pip/wheels/87/2a/18/4e471fd96d12114d16fe4a446d00c3b38fb9efcb744bd31f4a\n",
            "Successfully built wikipedia\n",
            "Installing collected packages: wikipedia\n",
            "Successfully installed wikipedia-1.4.0\n",
            "freeCodeCamp (also referred to as “Free Code Camp”) is a non-profit organization that consists of an interactive learning web platform, an online community forum, chat rooms, Medium publications and local organizations that intend to make learning web development accessible to anyone. Beginning with tutorials that introduce students to HTML, CSS and JavaScript, students progress to project assignments that they must complete either alone or in pairs. Upon completion of all project tasks, students are partnered with other nonprofits to build web applications, giving the students practical development experience.\n",
            "\n",
            "\n",
            "ALISON (company)\n",
            "Academic Earth\n",
            "Alexa Internet\n",
            "Anant Agarwal\n",
            "Andrew Ng\n",
            "AngularJS\n",
            "Bootstrap (front-end framework)\n",
            "Brady Haran\n",
            "CGP Grey\n",
            "Canvas Network\n",
            "Cascading Style Sheets\n",
            "China Open Resources for Education\n",
            "ClassDojo\n",
            "CodeCombat\n",
            "Code School\n",
            "Codecademy\n",
            "Connectivism\n",
            "Coursera\n",
            "Crash Course (YouTube)\n",
            "D3.js\n",
            "Daphne Koller\n",
            "Data visualization\n",
            "Derek Muller\n",
            "Duolingo\n",
            "EdX\n",
            "EduKart\n",
            "Edulanka\n",
            "Eliademy\n",
            "Express.js\n",
            "France Université Numérique\n",
            "Front-end web development\n",
            "FutureLearn\n",
            "Gamification\n",
            "George Siemens\n",
            "Git\n",
            "Green brothers\n",
            "HTML5\n",
            "Hank Green\n",
            "Hello English\n",
            "IONISx\n",
            "Impostor syndrome\n",
            "Iversity\n",
            "JQuery\n",
            "JavaScript\n",
            "John Green (author)\n",
            "KSL-TV\n",
            "Kadenze\n",
            "Khan Academy\n",
            "Kopernik (organization)\n",
            "Lynda.com\n",
            "Lynda Weinman\n",
            "MIT OpenCourseWare\n",
            "MailChimp\n",
            "Massive open online course\n",
            "Medium (website)\n",
            "Mike Feerick\n",
            "MongoDB\n",
            "Node.js\n",
            "Nonprofit organization\n",
            "Oklahoma City\n",
            "Open-source\n",
            "Open2Study\n",
            "OpenCourseWare\n",
            "OpenHPI\n",
            "OpenLearn\n",
            "OpenLearning\n",
            "Open data\n",
            "Open education\n",
            "Open educational resources\n",
            "Pair programming\n",
            "Peer to Peer University\n",
            "Peter Norvig\n",
            "React (JavaScript library)\n",
            "Ribbon Hero\n",
            "SWAYAM\n",
            "Salman Khan (educator)\n",
            "San Francisco, California\n",
            "Sass (stylesheet language)\n",
            "Sebastian Thrun\n",
            "Shaw Academy\n",
            "Sololearn\n",
            "Stanford\n",
            "Stephen Downes\n",
            "Topica Edtech Group\n",
            "Udacity\n",
            "Udemy\n",
            "Unbundling\n",
            "Web development\n"
          ],
          "name": "stdout"
        }
      ]
    },
    {
      "metadata": {
        "id": "Jg0UddbKgemg",
        "colab_type": "text"
      },
      "cell_type": "markdown",
      "source": [
        "Like the real site, the module provides support for multiple languages, page disambiguation, random page retrieval, and even has a donate() method."
      ]
    },
    {
      "metadata": {
        "id": "YAjn2wybgtFO",
        "colab_type": "text"
      },
      "cell_type": "markdown",
      "source": [
        "## xkcd\n",
        "Humour is a key feature of the Python language — after all, it is named after the British comedy sketch show Monty Python’s Flying Circus. Much of Python’s official documentation references the show’s most famous sketches.\n",
        "\n",
        "The sense of humour isn’t restricted to the docs, though. Have a go running the line below:"
      ]
    },
    {
      "metadata": {
        "id": "hrsm6d79g1UO",
        "colab_type": "code",
        "colab": {}
      },
      "cell_type": "code",
      "source": [
        "import antigravity"
      ],
      "execution_count": 0,
      "outputs": []
    },
    {
      "metadata": {
        "id": "KpmE8k5pg4b-",
        "colab_type": "text"
      },
      "cell_type": "markdown",
      "source": [
        "Never change, Python. Never change."
      ]
    },
    {
      "metadata": {
        "id": "WCyakSAahh2S",
        "colab_type": "text"
      },
      "cell_type": "markdown",
      "source": [
        "## YAML\n",
        "YAML stands for ‘YAML Ain’t Markup Language’. It is a data formatting language, and is a superset of JSON.\n",
        "\n",
        "Unlike JSON, it can store more complex objects and refer to its own elements. You can also write comments, making it particularly suited to writing configuration files.\n",
        "\n",
        "The PyYAML module lets you use YAML with Python. Install with:"
      ]
    },
    {
      "metadata": {
        "id": "2tEeXS-DhsCF",
        "colab_type": "code",
        "colab": {
          "base_uri": "https://localhost:8080/",
          "height": 36
        },
        "outputId": "81a435b6-8fb4-49d2-e82b-e095677d24b4"
      },
      "cell_type": "code",
      "source": [
        "!pip3 install pyyaml"
      ],
      "execution_count": 38,
      "outputs": [
        {
          "output_type": "stream",
          "text": [
            "Requirement already satisfied: pyyaml in /usr/local/lib/python3.6/dist-packages (3.13)\n"
          ],
          "name": "stdout"
        }
      ]
    },
    {
      "metadata": {
        "id": "4c_zOqgsilP1",
        "colab_type": "code",
        "colab": {}
      },
      "cell_type": "code",
      "source": [
        "import yaml"
      ],
      "execution_count": 0,
      "outputs": []
    },
    {
      "metadata": {
        "id": "0-VXPTaiiy50",
        "colab_type": "text"
      },
      "cell_type": "markdown",
      "source": [
        "PyYAML lets you store Python objects of any datatype, and instances of any user-defined classes also."
      ]
    },
    {
      "metadata": {
        "id": "qdD-s9YGi0It",
        "colab_type": "text"
      },
      "cell_type": "markdown",
      "source": [
        "## zip\n",
        "One last trick for ya, and it really is a cool one. Ever needed to form a dictionary out of two lists?"
      ]
    },
    {
      "metadata": {
        "id": "cP4OFNmhi6Xn",
        "colab_type": "code",
        "colab": {}
      },
      "cell_type": "code",
      "source": [
        "keys = ['a', 'b', 'c']\n",
        "vals = [1, 2, 3]\n",
        "zipped = dict(zip(keys, vals))"
      ],
      "execution_count": 0,
      "outputs": []
    },
    {
      "metadata": {
        "id": "RIuPvamii-zd",
        "colab_type": "text"
      },
      "cell_type": "markdown",
      "source": [
        "The zip() inbuilt function takes a number of iterable objects and returns a list of tuples. Each tuple groups the elements of the input objects by their positional index.\n",
        "\n",
        "You can also ‘unzip’ objects by calling *zip() on them."
      ]
    }
  ]
}